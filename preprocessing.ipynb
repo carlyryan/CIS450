{
 "cells": [
  {
   "cell_type": "code",
   "execution_count": 13,
   "metadata": {},
   "outputs": [],
   "source": [
    "import pandas as pd"
   ]
  },
  {
   "cell_type": "markdown",
   "metadata": {},
   "source": [
    "## Processing the yelp data\n",
    "- Load into dataframe\n",
    "- Choose city with largest size that we have Airbnb data for\n",
    "- Filter by city\n",
    "- [ ] TODO: Remove unwanted columns\n",
    "- Save to CSV\n"
   ]
  },
  {
   "cell_type": "code",
   "execution_count": 14,
   "metadata": {},
   "outputs": [],
   "source": [
    "# NOTE: file was too big for github, dataset was downloaded from: https://www.kaggle.com/yelp-dataset/yelp-dataset?select=yelp_academic_dataset_business.json\n",
    "yelp_data = pd.read_json('./datasets/yelp_academic_dataset_business.json', lines=True) "
   ]
  },
  {
   "cell_type": "markdown",
   "metadata": {},
   "source": [
    "# 1. Filter for city"
   ]
  },
  {
   "cell_type": "code",
   "execution_count": 15,
   "metadata": {},
   "outputs": [],
   "source": [
    "yelp_cities = yelp_data.city.unique()"
   ]
  },
  {
   "cell_type": "code",
   "execution_count": 16,
   "metadata": {},
   "outputs": [],
   "source": [
    "airbnb_cities = ['Austin', 'Boston', 'Cambridge', 'Chicago', 'Los Angeles', 'Oakland', 'San Francisco', 'Seattle']"
   ]
  },
  {
   "cell_type": "code",
   "execution_count": 17,
   "metadata": {},
   "outputs": [],
   "source": [
    "potential_cities = list(filter(lambda c: c in yelp_cities, airbnb_cities))"
   ]
  },
  {
   "cell_type": "code",
   "execution_count": 18,
   "metadata": {},
   "outputs": [],
   "source": [
    "def city_yelp_count(c):\n",
    "  return len(yelp_data[yelp_data.city == c])"
   ]
  },
  {
   "cell_type": "code",
   "execution_count": 19,
   "metadata": {},
   "outputs": [],
   "source": [
    "city_sizes = {c: city_yelp_count(c) for c in potential_cities}"
   ]
  },
  {
   "cell_type": "code",
   "execution_count": 20,
   "metadata": {},
   "outputs": [
    {
     "data": {
      "text/plain": [
       "{'Austin': 22416, 'Boston': 8263, 'Cambridge': 2433, 'Oakland': 11}"
      ]
     },
     "execution_count": 20,
     "metadata": {},
     "output_type": "execute_result"
    }
   ],
   "source": [
    "city_sizes"
   ]
  },
  {
   "cell_type": "markdown",
   "metadata": {},
   "source": [
    "We choose Austin since it has the largest available amount of data"
   ]
  },
  {
   "cell_type": "code",
   "execution_count": null,
   "metadata": {},
   "outputs": [],
   "source": [
    "list(filter(lambda c: 'aus' in c or 'Aus' in c, yelp_cities))"
   ]
  },
  {
   "cell_type": "code",
   "execution_count": 35,
   "metadata": {},
   "outputs": [],
   "source": [
    "yelp_data_austin = yelp_data[['aus' in c or 'Aus' in c for c in yelp_data.city]]"
   ]
  },
  {
   "cell_type": "code",
   "execution_count": 36,
   "metadata": {},
   "outputs": [
    {
     "data": {
      "text/plain": [
       "array(['TX'], dtype=object)"
      ]
     },
     "execution_count": 36,
     "metadata": {},
     "output_type": "execute_result"
    }
   ],
   "source": [
    "yelp_data_austin.head().state.unique()"
   ]
  },
  {
   "cell_type": "code",
   "execution_count": 37,
   "metadata": {},
   "outputs": [],
   "source": [
    "yelp_data_austin = yelp_data_austin.reset_index().drop('index', 1)"
   ]
  },
  {
   "cell_type": "code",
   "execution_count": 39,
   "metadata": {},
   "outputs": [
    {
     "data": {
      "text/html": [
       "<div>\n",
       "<style scoped>\n",
       "    .dataframe tbody tr th:only-of-type {\n",
       "        vertical-align: middle;\n",
       "    }\n",
       "\n",
       "    .dataframe tbody tr th {\n",
       "        vertical-align: top;\n",
       "    }\n",
       "\n",
       "    .dataframe thead th {\n",
       "        text-align: right;\n",
       "    }\n",
       "</style>\n",
       "<table border=\"1\" class=\"dataframe\">\n",
       "  <thead>\n",
       "    <tr style=\"text-align: right;\">\n",
       "      <th></th>\n",
       "      <th>business_id</th>\n",
       "      <th>name</th>\n",
       "      <th>address</th>\n",
       "      <th>city</th>\n",
       "      <th>state</th>\n",
       "      <th>postal_code</th>\n",
       "      <th>latitude</th>\n",
       "      <th>longitude</th>\n",
       "      <th>stars</th>\n",
       "      <th>review_count</th>\n",
       "      <th>is_open</th>\n",
       "      <th>attributes</th>\n",
       "      <th>categories</th>\n",
       "      <th>hours</th>\n",
       "    </tr>\n",
       "  </thead>\n",
       "  <tbody>\n",
       "    <tr>\n",
       "      <th>0</th>\n",
       "      <td>N3_Gs3DnX4k9SgpwJxdEfw</td>\n",
       "      <td>Lane Wells Jewelry Repair</td>\n",
       "      <td>7801 N Lamar Blvd, Ste A140</td>\n",
       "      <td>Austin</td>\n",
       "      <td>TX</td>\n",
       "      <td>78752</td>\n",
       "      <td>30.346169</td>\n",
       "      <td>-97.711458</td>\n",
       "      <td>5.0</td>\n",
       "      <td>30</td>\n",
       "      <td>1</td>\n",
       "      <td>{'RestaurantsPriceRange2': '1', 'ByAppointment...</td>\n",
       "      <td>Shopping, Jewelry Repair, Appraisal Services, ...</td>\n",
       "      <td>{'Monday': '12:15-17:0', 'Tuesday': '12:15-17:...</td>\n",
       "    </tr>\n",
       "    <tr>\n",
       "      <th>1</th>\n",
       "      <td>tXvdYGvlEceDljN8gt2_3Q</td>\n",
       "      <td>Capital City Barber Shop</td>\n",
       "      <td>615 W Slaughter Ln, Ste 113</td>\n",
       "      <td>Austin</td>\n",
       "      <td>TX</td>\n",
       "      <td>78748</td>\n",
       "      <td>30.172706</td>\n",
       "      <td>-97.799920</td>\n",
       "      <td>4.0</td>\n",
       "      <td>5</td>\n",
       "      <td>0</td>\n",
       "      <td>{'BusinessAcceptsCreditCards': 'False', 'Resta...</td>\n",
       "      <td>Barbers, Beauty &amp; Spas</td>\n",
       "      <td>{'Monday': '9:0-17:0', 'Tuesday': '9:0-19:0', ...</td>\n",
       "    </tr>\n",
       "    <tr>\n",
       "      <th>2</th>\n",
       "      <td>nTIhpR7MhsALPwg_Hh14EA</td>\n",
       "      <td>DoubleTree by Hilton Hotel Austin</td>\n",
       "      <td>6505 N Interstate 35</td>\n",
       "      <td>Austin</td>\n",
       "      <td>TX</td>\n",
       "      <td>78752</td>\n",
       "      <td>30.326377</td>\n",
       "      <td>-97.704543</td>\n",
       "      <td>3.0</td>\n",
       "      <td>139</td>\n",
       "      <td>1</td>\n",
       "      <td>{'WiFi': 'u'free'', 'RestaurantsPriceRange2': ...</td>\n",
       "      <td>Hotels, Hotels &amp; Travel, Event Planning &amp; Serv...</td>\n",
       "      <td>{'Monday': '0:0-0:0', 'Tuesday': '0:0-0:0', 'W...</td>\n",
       "    </tr>\n",
       "    <tr>\n",
       "      <th>3</th>\n",
       "      <td>8XyEpVdAO0o6iVkVxkWosQ</td>\n",
       "      <td>PS Property Management Company</td>\n",
       "      <td>2506 S Lamar Blvd, Ste 2</td>\n",
       "      <td>Austin</td>\n",
       "      <td>TX</td>\n",
       "      <td>78704</td>\n",
       "      <td>30.246465</td>\n",
       "      <td>-97.778738</td>\n",
       "      <td>4.5</td>\n",
       "      <td>9</td>\n",
       "      <td>1</td>\n",
       "      <td>{'BusinessAcceptsCreditCards': 'True'}</td>\n",
       "      <td>Home Services, Real Estate, Property Management</td>\n",
       "      <td>{'Monday': '9:0-17:0', 'Tuesday': '9:0-17:0', ...</td>\n",
       "    </tr>\n",
       "    <tr>\n",
       "      <th>4</th>\n",
       "      <td>NVfOn7TdnHbaGH97CVB_Qg</td>\n",
       "      <td>McKinley Chiropractic</td>\n",
       "      <td>5625 Eiger Rd, Ste 160</td>\n",
       "      <td>Austin</td>\n",
       "      <td>TX</td>\n",
       "      <td>78735</td>\n",
       "      <td>30.244902</td>\n",
       "      <td>-97.857409</td>\n",
       "      <td>5.0</td>\n",
       "      <td>5</td>\n",
       "      <td>1</td>\n",
       "      <td>{'BusinessAcceptsCreditCards': 'True', 'Accept...</td>\n",
       "      <td>Chiropractors, Health &amp; Medical</td>\n",
       "      <td>{'Monday': '9:0-17:45', 'Tuesday': '12:0-17:45...</td>\n",
       "    </tr>\n",
       "  </tbody>\n",
       "</table>\n",
       "</div>"
      ],
      "text/plain": [
       "              business_id                               name  \\\n",
       "0  N3_Gs3DnX4k9SgpwJxdEfw          Lane Wells Jewelry Repair   \n",
       "1  tXvdYGvlEceDljN8gt2_3Q           Capital City Barber Shop   \n",
       "2  nTIhpR7MhsALPwg_Hh14EA  DoubleTree by Hilton Hotel Austin   \n",
       "3  8XyEpVdAO0o6iVkVxkWosQ     PS Property Management Company   \n",
       "4  NVfOn7TdnHbaGH97CVB_Qg              McKinley Chiropractic   \n",
       "\n",
       "                       address    city state postal_code   latitude  \\\n",
       "0  7801 N Lamar Blvd, Ste A140  Austin    TX       78752  30.346169   \n",
       "1  615 W Slaughter Ln, Ste 113  Austin    TX       78748  30.172706   \n",
       "2         6505 N Interstate 35  Austin    TX       78752  30.326377   \n",
       "3     2506 S Lamar Blvd, Ste 2  Austin    TX       78704  30.246465   \n",
       "4       5625 Eiger Rd, Ste 160  Austin    TX       78735  30.244902   \n",
       "\n",
       "   longitude  stars  review_count  is_open  \\\n",
       "0 -97.711458    5.0            30        1   \n",
       "1 -97.799920    4.0             5        0   \n",
       "2 -97.704543    3.0           139        1   \n",
       "3 -97.778738    4.5             9        1   \n",
       "4 -97.857409    5.0             5        1   \n",
       "\n",
       "                                          attributes  \\\n",
       "0  {'RestaurantsPriceRange2': '1', 'ByAppointment...   \n",
       "1  {'BusinessAcceptsCreditCards': 'False', 'Resta...   \n",
       "2  {'WiFi': 'u'free'', 'RestaurantsPriceRange2': ...   \n",
       "3             {'BusinessAcceptsCreditCards': 'True'}   \n",
       "4  {'BusinessAcceptsCreditCards': 'True', 'Accept...   \n",
       "\n",
       "                                          categories  \\\n",
       "0  Shopping, Jewelry Repair, Appraisal Services, ...   \n",
       "1                             Barbers, Beauty & Spas   \n",
       "2  Hotels, Hotels & Travel, Event Planning & Serv...   \n",
       "3    Home Services, Real Estate, Property Management   \n",
       "4                    Chiropractors, Health & Medical   \n",
       "\n",
       "                                               hours  \n",
       "0  {'Monday': '12:15-17:0', 'Tuesday': '12:15-17:...  \n",
       "1  {'Monday': '9:0-17:0', 'Tuesday': '9:0-19:0', ...  \n",
       "2  {'Monday': '0:0-0:0', 'Tuesday': '0:0-0:0', 'W...  \n",
       "3  {'Monday': '9:0-17:0', 'Tuesday': '9:0-17:0', ...  \n",
       "4  {'Monday': '9:0-17:45', 'Tuesday': '12:0-17:45...  "
      ]
     },
     "execution_count": 39,
     "metadata": {},
     "output_type": "execute_result"
    }
   ],
   "source": [
    "yelp_data_austin.head()"
   ]
  },
  {
   "cell_type": "code",
   "execution_count": 44,
   "metadata": {},
   "outputs": [
    {
     "data": {
      "text/plain": [
       "{'RestaurantsPriceRange2': '1',\n",
       " 'ByAppointmentOnly': 'False',\n",
       " 'BusinessParking': \"{'garage': False, 'street': False, 'validated': False, 'lot': True, 'valet': False}\",\n",
       " 'BusinessAcceptsCreditCards': 'True',\n",
       " 'DogsAllowed': 'True',\n",
       " 'RestaurantsDelivery': 'None',\n",
       " 'BusinessAcceptsBitcoin': 'False',\n",
       " 'BikeParking': 'True',\n",
       " 'RestaurantsTakeOut': 'None',\n",
       " 'WheelchairAccessible': 'True'}"
      ]
     },
     "execution_count": 44,
     "metadata": {},
     "output_type": "execute_result"
    }
   ],
   "source": [
    "yelp_data_austin.attributes[0]"
   ]
  },
  {
   "cell_type": "markdown",
   "metadata": {},
   "source": [
    "## Flattening attributes"
   ]
  },
  {
   "cell_type": "code",
   "execution_count": 46,
   "metadata": {},
   "outputs": [],
   "source": [
    "yelp_data_austin.attributes=yelp_data_austin.attributes.apply(lambda x: {} if pd.isna(x) else x)"
   ]
  },
  {
   "cell_type": "code",
   "execution_count": 50,
   "metadata": {},
   "outputs": [],
   "source": [
    "yelp_data_austin = yelp_data_austin.join(pd.json_normalize(yelp_data_austin.attributes.tolist()))."
   ]
  },
  {
   "cell_type": "code",
   "execution_count": 51,
   "metadata": {},
   "outputs": [
    {
     "data": {
      "text/plain": [
       "Index(['business_id', 'name', 'address', 'city', 'state', 'postal_code',\n",
       "       'latitude', 'longitude', 'stars', 'review_count', 'is_open',\n",
       "       'attributes', 'categories', 'hours', 'RestaurantsPriceRange2',\n",
       "       'ByAppointmentOnly', 'BusinessParking', 'BusinessAcceptsCreditCards',\n",
       "       'DogsAllowed', 'RestaurantsDelivery', 'BusinessAcceptsBitcoin',\n",
       "       'BikeParking', 'RestaurantsTakeOut', 'WheelchairAccessible', 'WiFi',\n",
       "       'AcceptsInsurance', 'RestaurantsGoodForGroups', 'HasTV',\n",
       "       'RestaurantsReservations', 'OutdoorSeating', 'NoiseLevel', 'Ambience',\n",
       "       'GoodForKids', 'RestaurantsAttire', 'CoatCheck', 'GoodForDancing',\n",
       "       'Caters', 'RestaurantsTableService', 'HappyHour', 'Music', 'Alcohol',\n",
       "       'GoodForMeal', 'Smoking', 'BestNights', 'BYOBCorkage',\n",
       "       'HairSpecializesIn', 'DriveThru', 'BYOB', 'Corkage',\n",
       "       'RestaurantsCounterService', 'Open24Hours', 'AgesAllowed',\n",
       "       'DietaryRestrictions'],\n",
       "      dtype='object')"
      ]
     },
     "execution_count": 51,
     "metadata": {},
     "output_type": "execute_result"
    }
   ],
   "source": [
    "yelp_data_austin.columns"
   ]
  },
  {
   "cell_type": "code",
   "execution_count": 53,
   "metadata": {},
   "outputs": [
    {
     "data": {
      "text/html": [
       "<div>\n",
       "<style scoped>\n",
       "    .dataframe tbody tr th:only-of-type {\n",
       "        vertical-align: middle;\n",
       "    }\n",
       "\n",
       "    .dataframe tbody tr th {\n",
       "        vertical-align: top;\n",
       "    }\n",
       "\n",
       "    .dataframe thead th {\n",
       "        text-align: right;\n",
       "    }\n",
       "</style>\n",
       "<table border=\"1\" class=\"dataframe\">\n",
       "  <thead>\n",
       "    <tr style=\"text-align: right;\">\n",
       "      <th></th>\n",
       "      <th>business_id</th>\n",
       "      <th>name</th>\n",
       "      <th>address</th>\n",
       "      <th>city</th>\n",
       "      <th>state</th>\n",
       "      <th>postal_code</th>\n",
       "      <th>latitude</th>\n",
       "      <th>longitude</th>\n",
       "      <th>stars</th>\n",
       "      <th>review_count</th>\n",
       "      <th>...</th>\n",
       "      <th>BestNights</th>\n",
       "      <th>BYOBCorkage</th>\n",
       "      <th>HairSpecializesIn</th>\n",
       "      <th>DriveThru</th>\n",
       "      <th>BYOB</th>\n",
       "      <th>Corkage</th>\n",
       "      <th>RestaurantsCounterService</th>\n",
       "      <th>Open24Hours</th>\n",
       "      <th>AgesAllowed</th>\n",
       "      <th>DietaryRestrictions</th>\n",
       "    </tr>\n",
       "  </thead>\n",
       "  <tbody>\n",
       "    <tr>\n",
       "      <th>0</th>\n",
       "      <td>N3_Gs3DnX4k9SgpwJxdEfw</td>\n",
       "      <td>Lane Wells Jewelry Repair</td>\n",
       "      <td>7801 N Lamar Blvd, Ste A140</td>\n",
       "      <td>Austin</td>\n",
       "      <td>TX</td>\n",
       "      <td>78752</td>\n",
       "      <td>30.346169</td>\n",
       "      <td>-97.711458</td>\n",
       "      <td>5.0</td>\n",
       "      <td>30</td>\n",
       "      <td>...</td>\n",
       "      <td>NaN</td>\n",
       "      <td>NaN</td>\n",
       "      <td>NaN</td>\n",
       "      <td>NaN</td>\n",
       "      <td>NaN</td>\n",
       "      <td>NaN</td>\n",
       "      <td>NaN</td>\n",
       "      <td>NaN</td>\n",
       "      <td>NaN</td>\n",
       "      <td>NaN</td>\n",
       "    </tr>\n",
       "    <tr>\n",
       "      <th>1</th>\n",
       "      <td>tXvdYGvlEceDljN8gt2_3Q</td>\n",
       "      <td>Capital City Barber Shop</td>\n",
       "      <td>615 W Slaughter Ln, Ste 113</td>\n",
       "      <td>Austin</td>\n",
       "      <td>TX</td>\n",
       "      <td>78748</td>\n",
       "      <td>30.172706</td>\n",
       "      <td>-97.799920</td>\n",
       "      <td>4.0</td>\n",
       "      <td>5</td>\n",
       "      <td>...</td>\n",
       "      <td>NaN</td>\n",
       "      <td>NaN</td>\n",
       "      <td>NaN</td>\n",
       "      <td>NaN</td>\n",
       "      <td>NaN</td>\n",
       "      <td>NaN</td>\n",
       "      <td>NaN</td>\n",
       "      <td>NaN</td>\n",
       "      <td>NaN</td>\n",
       "      <td>NaN</td>\n",
       "    </tr>\n",
       "    <tr>\n",
       "      <th>2</th>\n",
       "      <td>nTIhpR7MhsALPwg_Hh14EA</td>\n",
       "      <td>DoubleTree by Hilton Hotel Austin</td>\n",
       "      <td>6505 N Interstate 35</td>\n",
       "      <td>Austin</td>\n",
       "      <td>TX</td>\n",
       "      <td>78752</td>\n",
       "      <td>30.326377</td>\n",
       "      <td>-97.704543</td>\n",
       "      <td>3.0</td>\n",
       "      <td>139</td>\n",
       "      <td>...</td>\n",
       "      <td>NaN</td>\n",
       "      <td>NaN</td>\n",
       "      <td>NaN</td>\n",
       "      <td>NaN</td>\n",
       "      <td>NaN</td>\n",
       "      <td>NaN</td>\n",
       "      <td>NaN</td>\n",
       "      <td>NaN</td>\n",
       "      <td>NaN</td>\n",
       "      <td>NaN</td>\n",
       "    </tr>\n",
       "    <tr>\n",
       "      <th>3</th>\n",
       "      <td>8XyEpVdAO0o6iVkVxkWosQ</td>\n",
       "      <td>PS Property Management Company</td>\n",
       "      <td>2506 S Lamar Blvd, Ste 2</td>\n",
       "      <td>Austin</td>\n",
       "      <td>TX</td>\n",
       "      <td>78704</td>\n",
       "      <td>30.246465</td>\n",
       "      <td>-97.778738</td>\n",
       "      <td>4.5</td>\n",
       "      <td>9</td>\n",
       "      <td>...</td>\n",
       "      <td>NaN</td>\n",
       "      <td>NaN</td>\n",
       "      <td>NaN</td>\n",
       "      <td>NaN</td>\n",
       "      <td>NaN</td>\n",
       "      <td>NaN</td>\n",
       "      <td>NaN</td>\n",
       "      <td>NaN</td>\n",
       "      <td>NaN</td>\n",
       "      <td>NaN</td>\n",
       "    </tr>\n",
       "    <tr>\n",
       "      <th>4</th>\n",
       "      <td>NVfOn7TdnHbaGH97CVB_Qg</td>\n",
       "      <td>McKinley Chiropractic</td>\n",
       "      <td>5625 Eiger Rd, Ste 160</td>\n",
       "      <td>Austin</td>\n",
       "      <td>TX</td>\n",
       "      <td>78735</td>\n",
       "      <td>30.244902</td>\n",
       "      <td>-97.857409</td>\n",
       "      <td>5.0</td>\n",
       "      <td>5</td>\n",
       "      <td>...</td>\n",
       "      <td>NaN</td>\n",
       "      <td>NaN</td>\n",
       "      <td>NaN</td>\n",
       "      <td>NaN</td>\n",
       "      <td>NaN</td>\n",
       "      <td>NaN</td>\n",
       "      <td>NaN</td>\n",
       "      <td>NaN</td>\n",
       "      <td>NaN</td>\n",
       "      <td>NaN</td>\n",
       "    </tr>\n",
       "  </tbody>\n",
       "</table>\n",
       "<p>5 rows × 53 columns</p>\n",
       "</div>"
      ],
      "text/plain": [
       "              business_id                               name  \\\n",
       "0  N3_Gs3DnX4k9SgpwJxdEfw          Lane Wells Jewelry Repair   \n",
       "1  tXvdYGvlEceDljN8gt2_3Q           Capital City Barber Shop   \n",
       "2  nTIhpR7MhsALPwg_Hh14EA  DoubleTree by Hilton Hotel Austin   \n",
       "3  8XyEpVdAO0o6iVkVxkWosQ     PS Property Management Company   \n",
       "4  NVfOn7TdnHbaGH97CVB_Qg              McKinley Chiropractic   \n",
       "\n",
       "                       address    city state postal_code   latitude  \\\n",
       "0  7801 N Lamar Blvd, Ste A140  Austin    TX       78752  30.346169   \n",
       "1  615 W Slaughter Ln, Ste 113  Austin    TX       78748  30.172706   \n",
       "2         6505 N Interstate 35  Austin    TX       78752  30.326377   \n",
       "3     2506 S Lamar Blvd, Ste 2  Austin    TX       78704  30.246465   \n",
       "4       5625 Eiger Rd, Ste 160  Austin    TX       78735  30.244902   \n",
       "\n",
       "   longitude  stars  review_count  ...  BestNights BYOBCorkage  \\\n",
       "0 -97.711458    5.0            30  ...         NaN         NaN   \n",
       "1 -97.799920    4.0             5  ...         NaN         NaN   \n",
       "2 -97.704543    3.0           139  ...         NaN         NaN   \n",
       "3 -97.778738    4.5             9  ...         NaN         NaN   \n",
       "4 -97.857409    5.0             5  ...         NaN         NaN   \n",
       "\n",
       "  HairSpecializesIn DriveThru BYOB Corkage RestaurantsCounterService  \\\n",
       "0               NaN       NaN  NaN     NaN                       NaN   \n",
       "1               NaN       NaN  NaN     NaN                       NaN   \n",
       "2               NaN       NaN  NaN     NaN                       NaN   \n",
       "3               NaN       NaN  NaN     NaN                       NaN   \n",
       "4               NaN       NaN  NaN     NaN                       NaN   \n",
       "\n",
       "  Open24Hours AgesAllowed DietaryRestrictions  \n",
       "0         NaN         NaN                 NaN  \n",
       "1         NaN         NaN                 NaN  \n",
       "2         NaN         NaN                 NaN  \n",
       "3         NaN         NaN                 NaN  \n",
       "4         NaN         NaN                 NaN  \n",
       "\n",
       "[5 rows x 53 columns]"
      ]
     },
     "execution_count": 53,
     "metadata": {},
     "output_type": "execute_result"
    }
   ],
   "source": [
    "yelp_data_austin.head()"
   ]
  },
  {
   "cell_type": "code",
   "execution_count": 57,
   "metadata": {},
   "outputs": [
    {
     "data": {
      "text/plain": [
       "10262"
      ]
     },
     "execution_count": 57,
     "metadata": {},
     "output_type": "execute_result"
    }
   ],
   "source": [
    "len(yelp_data_austin[~yelp_data_austin.RestaurantsPriceRange2.isnull()])"
   ]
  },
  {
   "cell_type": "markdown",
   "metadata": {},
   "source": [
    "## Next steps\n",
    "- [ ] figure out how to flatten the hours sensibly\n",
    "- [ ] maybe want to drop some of these attribute columns/rename\n",
    "  - like does anyone really care if it accepts bitcoin"
   ]
  },
  {
   "cell_type": "code",
   "execution_count": null,
   "metadata": {},
   "outputs": [],
   "source": []
  },
  {
   "cell_type": "code",
   "execution_count": null,
   "metadata": {},
   "outputs": [],
   "source": [
    "yelp_data_austin.to_csv('./datasets/yelp_data_austin.csv')"
   ]
  },
  {
   "cell_type": "code",
   "execution_count": null,
   "metadata": {},
   "outputs": [],
   "source": []
  }
 ],
 "metadata": {
  "interpreter": {
   "hash": "aee8b7b246df8f9039afb4144a1f6fd8d2ca17a180786b69acc140d282b71a49"
  },
  "kernelspec": {
   "display_name": "Python 3.8.3 64-bit",
   "name": "python3"
  },
  "language_info": {
   "codemirror_mode": {
    "name": "ipython",
    "version": 3
   },
   "file_extension": ".py",
   "mimetype": "text/x-python",
   "name": "python",
   "nbconvert_exporter": "python",
   "pygments_lexer": "ipython3",
   "version": "3.8.3"
  },
  "orig_nbformat": 4
 },
 "nbformat": 4,
 "nbformat_minor": 2
}
