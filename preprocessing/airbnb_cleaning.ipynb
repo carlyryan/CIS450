{
  "nbformat": 4,
  "nbformat_minor": 0,
  "metadata": {
    "colab": {
      "name": "Cozy with the Good Eats -- Data Cleaning",
      "provenance": [],
      "collapsed_sections": []
    },
    "kernelspec": {
      "display_name": "Python 3",
      "name": "python3"
    }
  },
  "cells": [
    {
      "cell_type": "markdown",
      "metadata": {
        "id": "pqDcfFDuU-56"
      },
      "source": [
        "Our project uses two datasets:\n",
        "1. A [Yelp](https://www.yelp.com/dataset) dataset: The Yelp dataset covers 160,585 businesses across 8 metropolitan areas. There are a couple of different tables: business, review, user, checkin, tip, and photo. We’ll probably focus a lot of our attention on the business and review tables. (--> nothing in NYC https://github.com/Yelp/dataset-examples/issues/47)\n",
        "\n",
        "2. An [Airbnb](http://insideairbnb.com/get-the-data.html) dataset: The AIrBnB dataset, provided by ‘Inside Airbnb’, covers 36,923 locations across the entire NYC metropolitan area. Important columns that we have are latitude and longitude, number of bedrooms, as well as review statistics for a location etc. \n",
        "\n",
        "\n",
        "To prepare the datasets for ingestion into the database, we want to:\n",
        "1. Clean missing / misentered values\n",
        "2. Detect and solve entity resolution problems\n",
        "3. Replace categorical variables with numeric indicators for efficiency\n",
        "4. Export the data"
      ]
    },
    {
      "cell_type": "markdown",
      "metadata": {
        "id": "_w7qcswO1KqC"
      },
      "source": [
        "## Cleaning of Data for Stay cozy with good eats\n",
        "\n",
        "we will look to : \n",
        "*   Removal of rows with missing values\n",
        "*   Replacement of missing values with default values\n",
        "*   Dectection of entity resolution problems\n",
        "*   Simple entity resolution\n",
        "*   Removal of unpaired entities\n",
        "*   Replacement of categorical variables with indicators\n",
        "*   Identification of candidate indices\n",
        "*   Data exportation"
      ]
    },
    {
      "cell_type": "code",
      "metadata": {
        "id": "ymfuSljIMWdO"
      },
      "source": [
        "import numpy as np\n",
        "import pandas as pd\n",
        "from google.colab import drive\n",
        "import math\n",
        "import requests \n",
        "import json"
      ],
      "execution_count": 101,
      "outputs": []
    },
    {
      "cell_type": "code",
      "metadata": {
        "colab": {
          "base_uri": "https://localhost:8080/"
        },
        "id": "bG0H3MGaNA8M",
        "outputId": "ebac95db-c488-455f-a2eb-121fd81a3597"
      },
      "source": [
        "prefix = '/content/drive'\n",
        "from google.colab import drive\n",
        "drive.mount(prefix, force_remount=True)\n",
        "#success code: 4/1AX4XfWg77OvWTHG6cqauPcN_8-a3FWdeeWTGs1yBFShQYlfue6DcdgYd-70"
      ],
      "execution_count": 102,
      "outputs": [
        {
          "output_type": "stream",
          "name": "stdout",
          "text": [
            "Mounted at /content/drive\n"
          ]
        }
      ]
    },
    {
      "cell_type": "code",
      "metadata": {
        "id": "lSpkgOZHPkuE"
      },
      "source": [
        "yelp_path = '/content/drive/Shareddrives/CIS550/raw_datasets/yelp.csv' # we dont use this \n",
        "airbnb_path = '/content/drive/Shareddrives/CIS550/raw_datasets/airbnb.csv'"
      ],
      "execution_count": 103,
      "outputs": []
    },
    {
      "cell_type": "code",
      "metadata": {
        "id": "vFyiS_Vocek_",
        "colab": {
          "base_uri": "https://localhost:8080/"
        },
        "outputId": "00ad9c55-c779-4657-9d8e-6f83f81dd0df"
      },
      "source": [
        "yelp_raw = pd.read_csv(yelp_path) # we dont use this \n",
        "airbnb_raw = pd.read_csv(airbnb_path)"
      ],
      "execution_count": 104,
      "outputs": [
        {
          "output_type": "stream",
          "name": "stderr",
          "text": [
            "/usr/local/lib/python3.7/dist-packages/IPython/core/interactiveshell.py:2718: DtypeWarning: Columns (1,4,7,17,29,49,60,62,79,86,94) have mixed types.Specify dtype option on import or set low_memory=False.\n",
            "  interactivity=interactivity, compiler=compiler, result=result)\n"
          ]
        }
      ]
    },
    {
      "cell_type": "markdown",
      "metadata": {
        "id": "cbjcwLlSKPPt"
      },
      "source": [
        "# Airbnb Data Cleanup\n",
        "For the Airbnb Data, we want to remove a lot of columns and only keep a few. We also want to have a host table. \n",
        "\n",
        "We will also look for missing or misentered values, create categorical values, and check for entity resolution. We also only want New York Data."
      ]
    },
    {
      "cell_type": "code",
      "metadata": {
        "id": "hMZGJ83-5Z2X",
        "colab": {
          "base_uri": "https://localhost:8080/",
          "height": 625
        },
        "outputId": "75c60318-2a06-461f-f900-4cbb269887fb"
      },
      "source": [
        "airbnb_raw.head()"
      ],
      "execution_count": 105,
      "outputs": [
        {
          "output_type": "execute_result",
          "data": {
            "text/html": [
              "<div>\n",
              "<style scoped>\n",
              "    .dataframe tbody tr th:only-of-type {\n",
              "        vertical-align: middle;\n",
              "    }\n",
              "\n",
              "    .dataframe tbody tr th {\n",
              "        vertical-align: top;\n",
              "    }\n",
              "\n",
              "    .dataframe thead th {\n",
              "        text-align: right;\n",
              "    }\n",
              "</style>\n",
              "<table border=\"1\" class=\"dataframe\">\n",
              "  <thead>\n",
              "    <tr style=\"text-align: right;\">\n",
              "      <th></th>\n",
              "      <th>id</th>\n",
              "      <th>listing_url</th>\n",
              "      <th>scrape_id</th>\n",
              "      <th>last_scraped</th>\n",
              "      <th>name</th>\n",
              "      <th>description</th>\n",
              "      <th>neighborhood_overview</th>\n",
              "      <th>picture_url</th>\n",
              "      <th>host_id</th>\n",
              "      <th>host_url</th>\n",
              "      <th>host_name</th>\n",
              "      <th>host_since</th>\n",
              "      <th>host_location</th>\n",
              "      <th>host_about</th>\n",
              "      <th>host_response_time</th>\n",
              "      <th>host_response_rate</th>\n",
              "      <th>host_acceptance_rate</th>\n",
              "      <th>host_is_superhost</th>\n",
              "      <th>host_thumbnail_url</th>\n",
              "      <th>host_picture_url</th>\n",
              "      <th>host_neighbourhood</th>\n",
              "      <th>host_listings_count</th>\n",
              "      <th>host_total_listings_count</th>\n",
              "      <th>host_verifications</th>\n",
              "      <th>host_has_profile_pic</th>\n",
              "      <th>host_identity_verified</th>\n",
              "      <th>neighbourhood</th>\n",
              "      <th>neighbourhood_cleansed</th>\n",
              "      <th>neighbourhood_group_cleansed</th>\n",
              "      <th>latitude</th>\n",
              "      <th>longitude</th>\n",
              "      <th>property_type</th>\n",
              "      <th>room_type</th>\n",
              "      <th>accommodates</th>\n",
              "      <th>bathrooms</th>\n",
              "      <th>bathrooms_text</th>\n",
              "      <th>bedrooms</th>\n",
              "      <th>beds</th>\n",
              "      <th>amenities</th>\n",
              "      <th>price</th>\n",
              "      <th>minimum_nights</th>\n",
              "      <th>maximum_nights</th>\n",
              "      <th>minimum_minimum_nights</th>\n",
              "      <th>maximum_minimum_nights</th>\n",
              "      <th>minimum_maximum_nights</th>\n",
              "      <th>maximum_maximum_nights</th>\n",
              "      <th>minimum_nights_avg_ntm</th>\n",
              "      <th>maximum_nights_avg_ntm</th>\n",
              "      <th>calendar_updated</th>\n",
              "      <th>has_availability</th>\n",
              "      <th>availability_30</th>\n",
              "      <th>availability_60</th>\n",
              "      <th>availability_90</th>\n",
              "      <th>availability_365</th>\n",
              "      <th>calendar_last_scraped</th>\n",
              "      <th>number_of_reviews</th>\n",
              "      <th>number_of_reviews_ltm</th>\n",
              "      <th>number_of_reviews_l30d</th>\n",
              "      <th>first_review</th>\n",
              "      <th>last_review</th>\n",
              "      <th>review_scores_rating</th>\n",
              "      <th>review_scores_accuracy</th>\n",
              "      <th>review_scores_cleanliness</th>\n",
              "      <th>review_scores_checkin</th>\n",
              "      <th>review_scores_communication</th>\n",
              "      <th>review_scores_location</th>\n",
              "      <th>review_scores_value</th>\n",
              "      <th>license</th>\n",
              "      <th>instant_bookable</th>\n",
              "      <th>calculated_host_listings_count</th>\n",
              "      <th>calculated_host_listings_count_entire_homes</th>\n",
              "      <th>calculated_host_listings_count_private_rooms</th>\n",
              "      <th>calculated_host_listings_count_shared_rooms</th>\n",
              "      <th>reviews_per_month</th>\n",
              "    </tr>\n",
              "  </thead>\n",
              "  <tbody>\n",
              "    <tr>\n",
              "      <th>0</th>\n",
              "      <td>2265</td>\n",
              "      <td>https://www.airbnb.com/rooms/2265</td>\n",
              "      <td>20210914193120</td>\n",
              "      <td>2021-09-15</td>\n",
              "      <td>Zen-East in the Heart of Austin (monthly rental)</td>\n",
              "      <td>Zen East is situated in a vibrant &amp; diverse mu...</td>\n",
              "      <td>NaN</td>\n",
              "      <td>https://a0.muscache.com/pictures/4187/52d4f5d0...</td>\n",
              "      <td>2466</td>\n",
              "      <td>https://www.airbnb.com/users/show/2466</td>\n",
              "      <td>Paddy</td>\n",
              "      <td>2008-08-23</td>\n",
              "      <td>Austin, Texas, United States</td>\n",
              "      <td>I am a long time resident of Austin. I earned ...</td>\n",
              "      <td>within a few hours</td>\n",
              "      <td>100%</td>\n",
              "      <td>75%</td>\n",
              "      <td>t</td>\n",
              "      <td>https://a0.muscache.com/im/users/2466/profile_...</td>\n",
              "      <td>https://a0.muscache.com/im/users/2466/profile_...</td>\n",
              "      <td>East Downtown</td>\n",
              "      <td>3.0</td>\n",
              "      <td>3.0</td>\n",
              "      <td>['email', 'phone', 'facebook', 'reviews', 'kba']</td>\n",
              "      <td>t</td>\n",
              "      <td>t</td>\n",
              "      <td>NaN</td>\n",
              "      <td>78702</td>\n",
              "      <td>NaN</td>\n",
              "      <td>30.27752</td>\n",
              "      <td>-97.71377</td>\n",
              "      <td>Entire residential home</td>\n",
              "      <td>Entire home/apt</td>\n",
              "      <td>4</td>\n",
              "      <td>NaN</td>\n",
              "      <td>2 baths</td>\n",
              "      <td>2.0</td>\n",
              "      <td>2.0</td>\n",
              "      <td>[\"Free street parking\", \"Free dryer \\u2013 In ...</td>\n",
              "      <td>$200.00</td>\n",
              "      <td>7</td>\n",
              "      <td>180</td>\n",
              "      <td>7.0</td>\n",
              "      <td>7.0</td>\n",
              "      <td>180.0</td>\n",
              "      <td>180.0</td>\n",
              "      <td>7.0</td>\n",
              "      <td>180.0</td>\n",
              "      <td>NaN</td>\n",
              "      <td>t</td>\n",
              "      <td>0</td>\n",
              "      <td>7</td>\n",
              "      <td>37</td>\n",
              "      <td>37</td>\n",
              "      <td>2021-09-15</td>\n",
              "      <td>26</td>\n",
              "      <td>2</td>\n",
              "      <td>0</td>\n",
              "      <td>2015-11-09</td>\n",
              "      <td>2021-07-02</td>\n",
              "      <td>4.68</td>\n",
              "      <td>4.74</td>\n",
              "      <td>4.83</td>\n",
              "      <td>4.77</td>\n",
              "      <td>4.83</td>\n",
              "      <td>4.26</td>\n",
              "      <td>4.35</td>\n",
              "      <td>NaN</td>\n",
              "      <td>f</td>\n",
              "      <td>3</td>\n",
              "      <td>2</td>\n",
              "      <td>1</td>\n",
              "      <td>0</td>\n",
              "      <td>0.36</td>\n",
              "    </tr>\n",
              "    <tr>\n",
              "      <th>1</th>\n",
              "      <td>5245</td>\n",
              "      <td>https://www.airbnb.com/rooms/5245</td>\n",
              "      <td>20210914193120</td>\n",
              "      <td>2021-09-15</td>\n",
              "      <td>Eco friendly, Colorful, Clean, Cozy monthly share</td>\n",
              "      <td>Situated in a vibrant &amp; diverse multicultural ...</td>\n",
              "      <td>NaN</td>\n",
              "      <td>https://a0.muscache.com/pictures/5167505/b33b5...</td>\n",
              "      <td>2466</td>\n",
              "      <td>https://www.airbnb.com/users/show/2466</td>\n",
              "      <td>Paddy</td>\n",
              "      <td>2008-08-23</td>\n",
              "      <td>Austin, Texas, United States</td>\n",
              "      <td>I am a long time resident of Austin. I earned ...</td>\n",
              "      <td>within a few hours</td>\n",
              "      <td>100%</td>\n",
              "      <td>75%</td>\n",
              "      <td>t</td>\n",
              "      <td>https://a0.muscache.com/im/users/2466/profile_...</td>\n",
              "      <td>https://a0.muscache.com/im/users/2466/profile_...</td>\n",
              "      <td>East Downtown</td>\n",
              "      <td>3.0</td>\n",
              "      <td>3.0</td>\n",
              "      <td>['email', 'phone', 'facebook', 'reviews', 'kba']</td>\n",
              "      <td>t</td>\n",
              "      <td>t</td>\n",
              "      <td>NaN</td>\n",
              "      <td>78702</td>\n",
              "      <td>NaN</td>\n",
              "      <td>30.27614</td>\n",
              "      <td>-97.71320</td>\n",
              "      <td>Private room in residential home</td>\n",
              "      <td>Private room</td>\n",
              "      <td>2</td>\n",
              "      <td>NaN</td>\n",
              "      <td>1 private bath</td>\n",
              "      <td>1.0</td>\n",
              "      <td>2.0</td>\n",
              "      <td>[\"Free street parking\", \"Air conditioning\", \"L...</td>\n",
              "      <td>$114.00</td>\n",
              "      <td>30</td>\n",
              "      <td>90</td>\n",
              "      <td>30.0</td>\n",
              "      <td>30.0</td>\n",
              "      <td>90.0</td>\n",
              "      <td>90.0</td>\n",
              "      <td>30.0</td>\n",
              "      <td>90.0</td>\n",
              "      <td>NaN</td>\n",
              "      <td>t</td>\n",
              "      <td>0</td>\n",
              "      <td>28</td>\n",
              "      <td>58</td>\n",
              "      <td>58</td>\n",
              "      <td>2021-09-15</td>\n",
              "      <td>9</td>\n",
              "      <td>0</td>\n",
              "      <td>0</td>\n",
              "      <td>2018-03-14</td>\n",
              "      <td>2017-02-24</td>\n",
              "      <td>4.57</td>\n",
              "      <td>4.80</td>\n",
              "      <td>4.20</td>\n",
              "      <td>5.00</td>\n",
              "      <td>4.40</td>\n",
              "      <td>4.75</td>\n",
              "      <td>4.50</td>\n",
              "      <td>NaN</td>\n",
              "      <td>f</td>\n",
              "      <td>3</td>\n",
              "      <td>2</td>\n",
              "      <td>1</td>\n",
              "      <td>0</td>\n",
              "      <td>0.21</td>\n",
              "    </tr>\n",
              "    <tr>\n",
              "      <th>2</th>\n",
              "      <td>5456</td>\n",
              "      <td>https://www.airbnb.com/rooms/5456</td>\n",
              "      <td>20210914193120</td>\n",
              "      <td>2021-09-15</td>\n",
              "      <td>Walk to 6th, Rainey St and Convention Ctr</td>\n",
              "      <td>Great central  location for walking to Convent...</td>\n",
              "      <td>My neighborhood is ideally located if you want...</td>\n",
              "      <td>https://a0.muscache.com/pictures/14084884/b5a3...</td>\n",
              "      <td>8028</td>\n",
              "      <td>https://www.airbnb.com/users/show/8028</td>\n",
              "      <td>Sylvia</td>\n",
              "      <td>2009-02-16</td>\n",
              "      <td>Austin, Texas, United States</td>\n",
              "      <td>I am a licensed Real Estate Broker and owner o...</td>\n",
              "      <td>within an hour</td>\n",
              "      <td>100%</td>\n",
              "      <td>92%</td>\n",
              "      <td>t</td>\n",
              "      <td>https://a0.muscache.com/im/users/8028/profile_...</td>\n",
              "      <td>https://a0.muscache.com/im/users/8028/profile_...</td>\n",
              "      <td>East Downtown</td>\n",
              "      <td>1.0</td>\n",
              "      <td>1.0</td>\n",
              "      <td>['email', 'phone', 'reviews', 'kba']</td>\n",
              "      <td>t</td>\n",
              "      <td>t</td>\n",
              "      <td>Austin, Texas, United States</td>\n",
              "      <td>78702</td>\n",
              "      <td>NaN</td>\n",
              "      <td>30.26057</td>\n",
              "      <td>-97.73441</td>\n",
              "      <td>Entire guesthouse</td>\n",
              "      <td>Entire home/apt</td>\n",
              "      <td>3</td>\n",
              "      <td>NaN</td>\n",
              "      <td>1 bath</td>\n",
              "      <td>1.0</td>\n",
              "      <td>2.0</td>\n",
              "      <td>[\"Free street parking\", \"Patio or balcony\", \"E...</td>\n",
              "      <td>$104.00</td>\n",
              "      <td>2</td>\n",
              "      <td>90</td>\n",
              "      <td>2.0</td>\n",
              "      <td>2.0</td>\n",
              "      <td>90.0</td>\n",
              "      <td>90.0</td>\n",
              "      <td>2.0</td>\n",
              "      <td>90.0</td>\n",
              "      <td>NaN</td>\n",
              "      <td>t</td>\n",
              "      <td>17</td>\n",
              "      <td>35</td>\n",
              "      <td>55</td>\n",
              "      <td>324</td>\n",
              "      <td>2021-09-15</td>\n",
              "      <td>570</td>\n",
              "      <td>35</td>\n",
              "      <td>2</td>\n",
              "      <td>2019-11-01</td>\n",
              "      <td>2021-09-01</td>\n",
              "      <td>4.83</td>\n",
              "      <td>4.87</td>\n",
              "      <td>4.85</td>\n",
              "      <td>4.89</td>\n",
              "      <td>4.80</td>\n",
              "      <td>4.73</td>\n",
              "      <td>4.78</td>\n",
              "      <td>NaN</td>\n",
              "      <td>f</td>\n",
              "      <td>1</td>\n",
              "      <td>1</td>\n",
              "      <td>0</td>\n",
              "      <td>0</td>\n",
              "      <td>24.96</td>\n",
              "    </tr>\n",
              "    <tr>\n",
              "      <th>3</th>\n",
              "      <td>5769</td>\n",
              "      <td>https://www.airbnb.com/rooms/5769</td>\n",
              "      <td>20210914193120</td>\n",
              "      <td>2021-09-15</td>\n",
              "      <td>NW Austin Room</td>\n",
              "      <td>&lt;b&gt;The space&lt;/b&gt;&lt;br /&gt;Looking for a comfortabl...</td>\n",
              "      <td>Quiet neighborhood with lots of trees and good...</td>\n",
              "      <td>https://a0.muscache.com/pictures/23822033/ac94...</td>\n",
              "      <td>8186</td>\n",
              "      <td>https://www.airbnb.com/users/show/8186</td>\n",
              "      <td>Elizabeth</td>\n",
              "      <td>2009-02-19</td>\n",
              "      <td>Austin, Texas, United States</td>\n",
              "      <td>We're easygoing professionals that enjoy meeti...</td>\n",
              "      <td>within a few hours</td>\n",
              "      <td>100%</td>\n",
              "      <td>100%</td>\n",
              "      <td>t</td>\n",
              "      <td>https://a0.muscache.com/im/users/8186/profile_...</td>\n",
              "      <td>https://a0.muscache.com/im/users/8186/profile_...</td>\n",
              "      <td>SW Williamson Co.</td>\n",
              "      <td>1.0</td>\n",
              "      <td>1.0</td>\n",
              "      <td>['email', 'phone', 'reviews', 'jumio', 'govern...</td>\n",
              "      <td>t</td>\n",
              "      <td>t</td>\n",
              "      <td>Austin, Texas, United States</td>\n",
              "      <td>78729</td>\n",
              "      <td>NaN</td>\n",
              "      <td>30.45697</td>\n",
              "      <td>-97.78422</td>\n",
              "      <td>Private room in residential home</td>\n",
              "      <td>Private room</td>\n",
              "      <td>2</td>\n",
              "      <td>NaN</td>\n",
              "      <td>1 shared bath</td>\n",
              "      <td>1.0</td>\n",
              "      <td>1.0</td>\n",
              "      <td>[\"Hair dryer\", \"First aid kit\", \"Dishes and si...</td>\n",
              "      <td>$39.00</td>\n",
              "      <td>1</td>\n",
              "      <td>14</td>\n",
              "      <td>1.0</td>\n",
              "      <td>1.0</td>\n",
              "      <td>14.0</td>\n",
              "      <td>14.0</td>\n",
              "      <td>1.0</td>\n",
              "      <td>14.0</td>\n",
              "      <td>NaN</td>\n",
              "      <td>t</td>\n",
              "      <td>0</td>\n",
              "      <td>0</td>\n",
              "      <td>0</td>\n",
              "      <td>0</td>\n",
              "      <td>2021-09-15</td>\n",
              "      <td>264</td>\n",
              "      <td>7</td>\n",
              "      <td>0</td>\n",
              "      <td>2018-02-22</td>\n",
              "      <td>2021-07-03</td>\n",
              "      <td>4.90</td>\n",
              "      <td>4.90</td>\n",
              "      <td>4.86</td>\n",
              "      <td>4.91</td>\n",
              "      <td>4.94</td>\n",
              "      <td>4.74</td>\n",
              "      <td>4.92</td>\n",
              "      <td>NaN</td>\n",
              "      <td>f</td>\n",
              "      <td>1</td>\n",
              "      <td>0</td>\n",
              "      <td>1</td>\n",
              "      <td>0</td>\n",
              "      <td>6.08</td>\n",
              "    </tr>\n",
              "    <tr>\n",
              "      <th>4</th>\n",
              "      <td>6413</td>\n",
              "      <td>https://www.airbnb.com/rooms/6413</td>\n",
              "      <td>20210914193120</td>\n",
              "      <td>2021-09-15</td>\n",
              "      <td>Gem of a Studio near Downtown</td>\n",
              "      <td>Great studio apartment, perfect a single perso...</td>\n",
              "      <td>Travis Heights is one of the oldest neighborho...</td>\n",
              "      <td>https://a0.muscache.com/pictures/miso/Hosting-...</td>\n",
              "      <td>13879</td>\n",
              "      <td>https://www.airbnb.com/users/show/13879</td>\n",
              "      <td>Todd</td>\n",
              "      <td>2009-04-17</td>\n",
              "      <td>Austin, Texas, United States</td>\n",
              "      <td>We're a young family that likes to travel, we ...</td>\n",
              "      <td>within an hour</td>\n",
              "      <td>100%</td>\n",
              "      <td>100%</td>\n",
              "      <td>t</td>\n",
              "      <td>https://a0.muscache.com/im/pictures/user/4f35e...</td>\n",
              "      <td>https://a0.muscache.com/im/pictures/user/4f35e...</td>\n",
              "      <td>Travis Heights</td>\n",
              "      <td>1.0</td>\n",
              "      <td>1.0</td>\n",
              "      <td>['email', 'phone', 'reviews', 'jumio', 'offlin...</td>\n",
              "      <td>t</td>\n",
              "      <td>t</td>\n",
              "      <td>Austin, Texas, United States</td>\n",
              "      <td>78704</td>\n",
              "      <td>NaN</td>\n",
              "      <td>30.24885</td>\n",
              "      <td>-97.73587</td>\n",
              "      <td>Entire guesthouse</td>\n",
              "      <td>Entire home/apt</td>\n",
              "      <td>2</td>\n",
              "      <td>NaN</td>\n",
              "      <td>1 bath</td>\n",
              "      <td>NaN</td>\n",
              "      <td>1.0</td>\n",
              "      <td>[\"Free street parking\", \"Patio or balcony\", \"A...</td>\n",
              "      <td>$109.00</td>\n",
              "      <td>3</td>\n",
              "      <td>365</td>\n",
              "      <td>3.0</td>\n",
              "      <td>3.0</td>\n",
              "      <td>1125.0</td>\n",
              "      <td>1125.0</td>\n",
              "      <td>3.0</td>\n",
              "      <td>1125.0</td>\n",
              "      <td>NaN</td>\n",
              "      <td>t</td>\n",
              "      <td>0</td>\n",
              "      <td>0</td>\n",
              "      <td>0</td>\n",
              "      <td>0</td>\n",
              "      <td>2021-09-15</td>\n",
              "      <td>117</td>\n",
              "      <td>5</td>\n",
              "      <td>0</td>\n",
              "      <td>2014-03-18</td>\n",
              "      <td>2021-04-02</td>\n",
              "      <td>4.97</td>\n",
              "      <td>4.99</td>\n",
              "      <td>4.99</td>\n",
              "      <td>4.99</td>\n",
              "      <td>4.98</td>\n",
              "      <td>4.86</td>\n",
              "      <td>4.94</td>\n",
              "      <td>NaN</td>\n",
              "      <td>t</td>\n",
              "      <td>1</td>\n",
              "      <td>1</td>\n",
              "      <td>0</td>\n",
              "      <td>0</td>\n",
              "      <td>1.28</td>\n",
              "    </tr>\n",
              "  </tbody>\n",
              "</table>\n",
              "</div>"
            ],
            "text/plain": [
              "     id  ... reviews_per_month\n",
              "0  2265  ...              0.36\n",
              "1  5245  ...              0.21\n",
              "2  5456  ...             24.96\n",
              "3  5769  ...              6.08\n",
              "4  6413  ...              1.28\n",
              "\n",
              "[5 rows x 74 columns]"
            ]
          },
          "metadata": {},
          "execution_count": 105
        }
      ]
    },
    {
      "cell_type": "markdown",
      "metadata": {
        "id": "CnH5Fhe--BSt"
      },
      "source": [
        "### Colums that the Airbnb csv started with : \n",
        "\n",
        "```\n",
        "Index(['id', 'listing_url', 'scrape_id', 'last_scraped', 'name', 'description',\n",
        "       'neighborhood_overview', 'picture_url', 'host_id', 'host_url',\n",
        "       'host_name', 'host_since', 'host_location', 'host_about',\n",
        "       'host_response_time', 'host_response_rate', 'host_acceptance_rate', 'neighbourhood_cleansed',\n",
        "       'host_is_superhost', 'host_thumbnail_url', 'host_picture_url',\n",
        "       'host_neighbourhood', 'host_listings_count',\n",
        "       'host_total_listings_count', 'host_verifications',\n",
        "       'host_has_profile_pic', 'host_identity_verified', 'neighbourhood',\n",
        "       'neighbourhood_cleansed', 'neighbourhood_group_cleansed', 'latitude',\n",
        "       'longitude', 'property_type', 'room_type', 'accommodates', 'bathrooms',\n",
        "       'bathrooms_text', 'bedrooms', 'beds', 'amenities', 'price',\n",
        "       'minimum_nights', 'maximum_nights', 'minimum_minimum_nights',\n",
        "       'maximum_minimum_nights', 'minimum_maximum_nights',\n",
        "       'maximum_maximum_nights', 'minimum_nights_avg_ntm',\n",
        "       'maximum_nights_avg_ntm', 'calendar_updated', 'has_availability',\n",
        "       'availability_30', 'availability_60', 'availability_90',\n",
        "       'availability_365', 'calendar_last_scraped', 'number_of_reviews',\n",
        "       'number_of_reviews_ltm', 'number_of_reviews_l30d', 'first_review',\n",
        "       'last_review', 'review_scores_rating', 'review_scores_accuracy',\n",
        "       'review_scores_cleanliness', 'review_scores_checkin',\n",
        "       'review_scores_communication', 'review_scores_location',\n",
        "       'review_scores_value', 'license', 'instant_bookable',\n",
        "       'calculated_host_listings_count',\n",
        "       'calculated_host_listings_count_entire_homes',\n",
        "       'calculated_host_listings_count_private_rooms',\n",
        "       'calculated_host_listings_count_shared_rooms', 'reviews_per_month'],\n",
        "      dtype='object')\n",
        "```\n",
        "\n",
        "### Our DDL: \n",
        "```\n",
        "CREATE TABLE Airbnb(\n",
        "Id int PRIMARY KEY,\n",
        "Listing_url varchar(20),\n",
        "Latitude float,\n",
        "Longitude float,\n",
        "bathrooms float, \n",
        "bedrooms int,\n",
        "price float, \n",
        "review_scores_value float, \n",
        "review_scores_count int, \n",
        "neighborhood varchar(40))\n",
        "foreign key host_id references Host.host_id\n",
        "\n",
        "CREATE TABLE Host(\n",
        "host_id int PRIMARY KEY,\n",
        "...\n",
        "\n",
        "```\n",
        "\n",
        "\n",
        "### Columns we would like to thus keep: \n",
        "```\n",
        "Airbnb: [\n",
        "'id', 'listing_url', 'name', 'description',\n",
        "       'neighborhood_overview', 'picture_url', 'host_id', 'latitude',\n",
        "       'longitude', 'property_type', 'room_type', 'accommodates',\n",
        "       'bathrooms_text', 'bedrooms', 'beds', 'amenities', 'price',\n",
        "       'minimum_nights', 'maximum_nights', 'number_of_reviews', 'review_scores_rating',\n",
        "       'review_scores_cleanliness', 'review_scores_checkin',\n",
        "       'review_scores_communication', 'review_scores_location', 'instant_bookable']\n",
        "# id is the primary key\n",
        "# host_id is a foreign key to Host\n",
        "\n",
        "Host: [\n",
        "  'host_id', 'host_url',\n",
        "       'host_name', 'host_since', 'host_location', 'host_about',\n",
        "       'host_response_time', 'host_response_rate', 'host_acceptance_rate',\n",
        "       'host_is_superhost',\n",
        "       'host_neighbourhood', \n",
        "       'host_total_listings_count'\n",
        "]\n",
        "# host_id is the primary key\n",
        "```"
      ]
    },
    {
      "cell_type": "code",
      "metadata": {
        "id": "tG32wiuAM-dX",
        "colab": {
          "base_uri": "https://localhost:8080/",
          "height": 607
        },
        "outputId": "bf90a0f7-d7b9-4aad-ee19-4c1b0354517f"
      },
      "source": [
        "airbnb = airbnb_raw[[\n",
        "'id', 'listing_url', 'name', 'description',\n",
        "       'neighborhood_overview', 'picture_url', 'host_id', 'latitude',\n",
        "       'longitude', 'property_type', 'room_type', 'accommodates',\n",
        "       'bathrooms_text', 'bedrooms', 'beds', 'amenities', 'price',\n",
        "       'minimum_nights', 'maximum_nights', 'number_of_reviews', 'review_scores_rating',\n",
        "       'review_scores_cleanliness', 'review_scores_checkin',\n",
        "       'review_scores_communication', 'review_scores_location', 'instant_bookable', 'neighbourhood_cleansed']]\n",
        "host_raw = airbnb_raw[[\n",
        "  'host_id', 'host_url',\n",
        "       'host_name', 'host_since', 'host_location', 'host_about',\n",
        "       'host_response_time', 'host_response_rate', 'host_acceptance_rate',\n",
        "       'host_is_superhost',\n",
        "       'host_neighbourhood', \n",
        "       'host_total_listings_count'\n",
        "]]\n",
        "airbnb.head()"
      ],
      "execution_count": 106,
      "outputs": [
        {
          "output_type": "execute_result",
          "data": {
            "text/html": [
              "<div>\n",
              "<style scoped>\n",
              "    .dataframe tbody tr th:only-of-type {\n",
              "        vertical-align: middle;\n",
              "    }\n",
              "\n",
              "    .dataframe tbody tr th {\n",
              "        vertical-align: top;\n",
              "    }\n",
              "\n",
              "    .dataframe thead th {\n",
              "        text-align: right;\n",
              "    }\n",
              "</style>\n",
              "<table border=\"1\" class=\"dataframe\">\n",
              "  <thead>\n",
              "    <tr style=\"text-align: right;\">\n",
              "      <th></th>\n",
              "      <th>id</th>\n",
              "      <th>listing_url</th>\n",
              "      <th>name</th>\n",
              "      <th>description</th>\n",
              "      <th>neighborhood_overview</th>\n",
              "      <th>picture_url</th>\n",
              "      <th>host_id</th>\n",
              "      <th>latitude</th>\n",
              "      <th>longitude</th>\n",
              "      <th>property_type</th>\n",
              "      <th>room_type</th>\n",
              "      <th>accommodates</th>\n",
              "      <th>bathrooms_text</th>\n",
              "      <th>bedrooms</th>\n",
              "      <th>beds</th>\n",
              "      <th>amenities</th>\n",
              "      <th>price</th>\n",
              "      <th>minimum_nights</th>\n",
              "      <th>maximum_nights</th>\n",
              "      <th>number_of_reviews</th>\n",
              "      <th>review_scores_rating</th>\n",
              "      <th>review_scores_cleanliness</th>\n",
              "      <th>review_scores_checkin</th>\n",
              "      <th>review_scores_communication</th>\n",
              "      <th>review_scores_location</th>\n",
              "      <th>instant_bookable</th>\n",
              "      <th>neighbourhood_cleansed</th>\n",
              "    </tr>\n",
              "  </thead>\n",
              "  <tbody>\n",
              "    <tr>\n",
              "      <th>0</th>\n",
              "      <td>2265</td>\n",
              "      <td>https://www.airbnb.com/rooms/2265</td>\n",
              "      <td>Zen-East in the Heart of Austin (monthly rental)</td>\n",
              "      <td>Zen East is situated in a vibrant &amp; diverse mu...</td>\n",
              "      <td>NaN</td>\n",
              "      <td>https://a0.muscache.com/pictures/4187/52d4f5d0...</td>\n",
              "      <td>2466</td>\n",
              "      <td>30.27752</td>\n",
              "      <td>-97.71377</td>\n",
              "      <td>Entire residential home</td>\n",
              "      <td>Entire home/apt</td>\n",
              "      <td>4</td>\n",
              "      <td>2 baths</td>\n",
              "      <td>2.0</td>\n",
              "      <td>2.0</td>\n",
              "      <td>[\"Free street parking\", \"Free dryer \\u2013 In ...</td>\n",
              "      <td>$200.00</td>\n",
              "      <td>7</td>\n",
              "      <td>180</td>\n",
              "      <td>26</td>\n",
              "      <td>4.68</td>\n",
              "      <td>4.83</td>\n",
              "      <td>4.77</td>\n",
              "      <td>4.83</td>\n",
              "      <td>4.26</td>\n",
              "      <td>f</td>\n",
              "      <td>78702</td>\n",
              "    </tr>\n",
              "    <tr>\n",
              "      <th>1</th>\n",
              "      <td>5245</td>\n",
              "      <td>https://www.airbnb.com/rooms/5245</td>\n",
              "      <td>Eco friendly, Colorful, Clean, Cozy monthly share</td>\n",
              "      <td>Situated in a vibrant &amp; diverse multicultural ...</td>\n",
              "      <td>NaN</td>\n",
              "      <td>https://a0.muscache.com/pictures/5167505/b33b5...</td>\n",
              "      <td>2466</td>\n",
              "      <td>30.27614</td>\n",
              "      <td>-97.71320</td>\n",
              "      <td>Private room in residential home</td>\n",
              "      <td>Private room</td>\n",
              "      <td>2</td>\n",
              "      <td>1 private bath</td>\n",
              "      <td>1.0</td>\n",
              "      <td>2.0</td>\n",
              "      <td>[\"Free street parking\", \"Air conditioning\", \"L...</td>\n",
              "      <td>$114.00</td>\n",
              "      <td>30</td>\n",
              "      <td>90</td>\n",
              "      <td>9</td>\n",
              "      <td>4.57</td>\n",
              "      <td>4.20</td>\n",
              "      <td>5.00</td>\n",
              "      <td>4.40</td>\n",
              "      <td>4.75</td>\n",
              "      <td>f</td>\n",
              "      <td>78702</td>\n",
              "    </tr>\n",
              "    <tr>\n",
              "      <th>2</th>\n",
              "      <td>5456</td>\n",
              "      <td>https://www.airbnb.com/rooms/5456</td>\n",
              "      <td>Walk to 6th, Rainey St and Convention Ctr</td>\n",
              "      <td>Great central  location for walking to Convent...</td>\n",
              "      <td>My neighborhood is ideally located if you want...</td>\n",
              "      <td>https://a0.muscache.com/pictures/14084884/b5a3...</td>\n",
              "      <td>8028</td>\n",
              "      <td>30.26057</td>\n",
              "      <td>-97.73441</td>\n",
              "      <td>Entire guesthouse</td>\n",
              "      <td>Entire home/apt</td>\n",
              "      <td>3</td>\n",
              "      <td>1 bath</td>\n",
              "      <td>1.0</td>\n",
              "      <td>2.0</td>\n",
              "      <td>[\"Free street parking\", \"Patio or balcony\", \"E...</td>\n",
              "      <td>$104.00</td>\n",
              "      <td>2</td>\n",
              "      <td>90</td>\n",
              "      <td>570</td>\n",
              "      <td>4.83</td>\n",
              "      <td>4.85</td>\n",
              "      <td>4.89</td>\n",
              "      <td>4.80</td>\n",
              "      <td>4.73</td>\n",
              "      <td>f</td>\n",
              "      <td>78702</td>\n",
              "    </tr>\n",
              "    <tr>\n",
              "      <th>3</th>\n",
              "      <td>5769</td>\n",
              "      <td>https://www.airbnb.com/rooms/5769</td>\n",
              "      <td>NW Austin Room</td>\n",
              "      <td>&lt;b&gt;The space&lt;/b&gt;&lt;br /&gt;Looking for a comfortabl...</td>\n",
              "      <td>Quiet neighborhood with lots of trees and good...</td>\n",
              "      <td>https://a0.muscache.com/pictures/23822033/ac94...</td>\n",
              "      <td>8186</td>\n",
              "      <td>30.45697</td>\n",
              "      <td>-97.78422</td>\n",
              "      <td>Private room in residential home</td>\n",
              "      <td>Private room</td>\n",
              "      <td>2</td>\n",
              "      <td>1 shared bath</td>\n",
              "      <td>1.0</td>\n",
              "      <td>1.0</td>\n",
              "      <td>[\"Hair dryer\", \"First aid kit\", \"Dishes and si...</td>\n",
              "      <td>$39.00</td>\n",
              "      <td>1</td>\n",
              "      <td>14</td>\n",
              "      <td>264</td>\n",
              "      <td>4.90</td>\n",
              "      <td>4.86</td>\n",
              "      <td>4.91</td>\n",
              "      <td>4.94</td>\n",
              "      <td>4.74</td>\n",
              "      <td>f</td>\n",
              "      <td>78729</td>\n",
              "    </tr>\n",
              "    <tr>\n",
              "      <th>4</th>\n",
              "      <td>6413</td>\n",
              "      <td>https://www.airbnb.com/rooms/6413</td>\n",
              "      <td>Gem of a Studio near Downtown</td>\n",
              "      <td>Great studio apartment, perfect a single perso...</td>\n",
              "      <td>Travis Heights is one of the oldest neighborho...</td>\n",
              "      <td>https://a0.muscache.com/pictures/miso/Hosting-...</td>\n",
              "      <td>13879</td>\n",
              "      <td>30.24885</td>\n",
              "      <td>-97.73587</td>\n",
              "      <td>Entire guesthouse</td>\n",
              "      <td>Entire home/apt</td>\n",
              "      <td>2</td>\n",
              "      <td>1 bath</td>\n",
              "      <td>NaN</td>\n",
              "      <td>1.0</td>\n",
              "      <td>[\"Free street parking\", \"Patio or balcony\", \"A...</td>\n",
              "      <td>$109.00</td>\n",
              "      <td>3</td>\n",
              "      <td>365</td>\n",
              "      <td>117</td>\n",
              "      <td>4.97</td>\n",
              "      <td>4.99</td>\n",
              "      <td>4.99</td>\n",
              "      <td>4.98</td>\n",
              "      <td>4.86</td>\n",
              "      <td>t</td>\n",
              "      <td>78704</td>\n",
              "    </tr>\n",
              "  </tbody>\n",
              "</table>\n",
              "</div>"
            ],
            "text/plain": [
              "     id  ... neighbourhood_cleansed\n",
              "0  2265  ...                  78702\n",
              "1  5245  ...                  78702\n",
              "2  5456  ...                  78702\n",
              "3  5769  ...                  78729\n",
              "4  6413  ...                  78704\n",
              "\n",
              "[5 rows x 27 columns]"
            ]
          },
          "metadata": {},
          "execution_count": 106
        }
      ]
    },
    {
      "cell_type": "markdown",
      "metadata": {
        "id": "rWnwFPZ0dqNQ"
      },
      "source": [
        "#Cleaning Airbnb\n",
        "\n",
        "here we will remove nulls from the columns where we deem them not appropriate. \n",
        "\n",
        "We will also rename 2 columns to 'neighbourhood' and 'borough'\n",
        "\n",
        "We will then change data types"
      ]
    },
    {
      "cell_type": "code",
      "metadata": {
        "id": "_xTHcfQQdw-I",
        "colab": {
          "base_uri": "https://localhost:8080/",
          "height": 607
        },
        "outputId": "7bdbae8a-fcbb-437d-b4da-e35c26a6e29c"
      },
      "source": [
        "airbnb.head()"
      ],
      "execution_count": 107,
      "outputs": [
        {
          "output_type": "execute_result",
          "data": {
            "text/html": [
              "<div>\n",
              "<style scoped>\n",
              "    .dataframe tbody tr th:only-of-type {\n",
              "        vertical-align: middle;\n",
              "    }\n",
              "\n",
              "    .dataframe tbody tr th {\n",
              "        vertical-align: top;\n",
              "    }\n",
              "\n",
              "    .dataframe thead th {\n",
              "        text-align: right;\n",
              "    }\n",
              "</style>\n",
              "<table border=\"1\" class=\"dataframe\">\n",
              "  <thead>\n",
              "    <tr style=\"text-align: right;\">\n",
              "      <th></th>\n",
              "      <th>id</th>\n",
              "      <th>listing_url</th>\n",
              "      <th>name</th>\n",
              "      <th>description</th>\n",
              "      <th>neighborhood_overview</th>\n",
              "      <th>picture_url</th>\n",
              "      <th>host_id</th>\n",
              "      <th>latitude</th>\n",
              "      <th>longitude</th>\n",
              "      <th>property_type</th>\n",
              "      <th>room_type</th>\n",
              "      <th>accommodates</th>\n",
              "      <th>bathrooms_text</th>\n",
              "      <th>bedrooms</th>\n",
              "      <th>beds</th>\n",
              "      <th>amenities</th>\n",
              "      <th>price</th>\n",
              "      <th>minimum_nights</th>\n",
              "      <th>maximum_nights</th>\n",
              "      <th>number_of_reviews</th>\n",
              "      <th>review_scores_rating</th>\n",
              "      <th>review_scores_cleanliness</th>\n",
              "      <th>review_scores_checkin</th>\n",
              "      <th>review_scores_communication</th>\n",
              "      <th>review_scores_location</th>\n",
              "      <th>instant_bookable</th>\n",
              "      <th>neighbourhood_cleansed</th>\n",
              "    </tr>\n",
              "  </thead>\n",
              "  <tbody>\n",
              "    <tr>\n",
              "      <th>0</th>\n",
              "      <td>2265</td>\n",
              "      <td>https://www.airbnb.com/rooms/2265</td>\n",
              "      <td>Zen-East in the Heart of Austin (monthly rental)</td>\n",
              "      <td>Zen East is situated in a vibrant &amp; diverse mu...</td>\n",
              "      <td>NaN</td>\n",
              "      <td>https://a0.muscache.com/pictures/4187/52d4f5d0...</td>\n",
              "      <td>2466</td>\n",
              "      <td>30.27752</td>\n",
              "      <td>-97.71377</td>\n",
              "      <td>Entire residential home</td>\n",
              "      <td>Entire home/apt</td>\n",
              "      <td>4</td>\n",
              "      <td>2 baths</td>\n",
              "      <td>2.0</td>\n",
              "      <td>2.0</td>\n",
              "      <td>[\"Free street parking\", \"Free dryer \\u2013 In ...</td>\n",
              "      <td>$200.00</td>\n",
              "      <td>7</td>\n",
              "      <td>180</td>\n",
              "      <td>26</td>\n",
              "      <td>4.68</td>\n",
              "      <td>4.83</td>\n",
              "      <td>4.77</td>\n",
              "      <td>4.83</td>\n",
              "      <td>4.26</td>\n",
              "      <td>f</td>\n",
              "      <td>78702</td>\n",
              "    </tr>\n",
              "    <tr>\n",
              "      <th>1</th>\n",
              "      <td>5245</td>\n",
              "      <td>https://www.airbnb.com/rooms/5245</td>\n",
              "      <td>Eco friendly, Colorful, Clean, Cozy monthly share</td>\n",
              "      <td>Situated in a vibrant &amp; diverse multicultural ...</td>\n",
              "      <td>NaN</td>\n",
              "      <td>https://a0.muscache.com/pictures/5167505/b33b5...</td>\n",
              "      <td>2466</td>\n",
              "      <td>30.27614</td>\n",
              "      <td>-97.71320</td>\n",
              "      <td>Private room in residential home</td>\n",
              "      <td>Private room</td>\n",
              "      <td>2</td>\n",
              "      <td>1 private bath</td>\n",
              "      <td>1.0</td>\n",
              "      <td>2.0</td>\n",
              "      <td>[\"Free street parking\", \"Air conditioning\", \"L...</td>\n",
              "      <td>$114.00</td>\n",
              "      <td>30</td>\n",
              "      <td>90</td>\n",
              "      <td>9</td>\n",
              "      <td>4.57</td>\n",
              "      <td>4.20</td>\n",
              "      <td>5.00</td>\n",
              "      <td>4.40</td>\n",
              "      <td>4.75</td>\n",
              "      <td>f</td>\n",
              "      <td>78702</td>\n",
              "    </tr>\n",
              "    <tr>\n",
              "      <th>2</th>\n",
              "      <td>5456</td>\n",
              "      <td>https://www.airbnb.com/rooms/5456</td>\n",
              "      <td>Walk to 6th, Rainey St and Convention Ctr</td>\n",
              "      <td>Great central  location for walking to Convent...</td>\n",
              "      <td>My neighborhood is ideally located if you want...</td>\n",
              "      <td>https://a0.muscache.com/pictures/14084884/b5a3...</td>\n",
              "      <td>8028</td>\n",
              "      <td>30.26057</td>\n",
              "      <td>-97.73441</td>\n",
              "      <td>Entire guesthouse</td>\n",
              "      <td>Entire home/apt</td>\n",
              "      <td>3</td>\n",
              "      <td>1 bath</td>\n",
              "      <td>1.0</td>\n",
              "      <td>2.0</td>\n",
              "      <td>[\"Free street parking\", \"Patio or balcony\", \"E...</td>\n",
              "      <td>$104.00</td>\n",
              "      <td>2</td>\n",
              "      <td>90</td>\n",
              "      <td>570</td>\n",
              "      <td>4.83</td>\n",
              "      <td>4.85</td>\n",
              "      <td>4.89</td>\n",
              "      <td>4.80</td>\n",
              "      <td>4.73</td>\n",
              "      <td>f</td>\n",
              "      <td>78702</td>\n",
              "    </tr>\n",
              "    <tr>\n",
              "      <th>3</th>\n",
              "      <td>5769</td>\n",
              "      <td>https://www.airbnb.com/rooms/5769</td>\n",
              "      <td>NW Austin Room</td>\n",
              "      <td>&lt;b&gt;The space&lt;/b&gt;&lt;br /&gt;Looking for a comfortabl...</td>\n",
              "      <td>Quiet neighborhood with lots of trees and good...</td>\n",
              "      <td>https://a0.muscache.com/pictures/23822033/ac94...</td>\n",
              "      <td>8186</td>\n",
              "      <td>30.45697</td>\n",
              "      <td>-97.78422</td>\n",
              "      <td>Private room in residential home</td>\n",
              "      <td>Private room</td>\n",
              "      <td>2</td>\n",
              "      <td>1 shared bath</td>\n",
              "      <td>1.0</td>\n",
              "      <td>1.0</td>\n",
              "      <td>[\"Hair dryer\", \"First aid kit\", \"Dishes and si...</td>\n",
              "      <td>$39.00</td>\n",
              "      <td>1</td>\n",
              "      <td>14</td>\n",
              "      <td>264</td>\n",
              "      <td>4.90</td>\n",
              "      <td>4.86</td>\n",
              "      <td>4.91</td>\n",
              "      <td>4.94</td>\n",
              "      <td>4.74</td>\n",
              "      <td>f</td>\n",
              "      <td>78729</td>\n",
              "    </tr>\n",
              "    <tr>\n",
              "      <th>4</th>\n",
              "      <td>6413</td>\n",
              "      <td>https://www.airbnb.com/rooms/6413</td>\n",
              "      <td>Gem of a Studio near Downtown</td>\n",
              "      <td>Great studio apartment, perfect a single perso...</td>\n",
              "      <td>Travis Heights is one of the oldest neighborho...</td>\n",
              "      <td>https://a0.muscache.com/pictures/miso/Hosting-...</td>\n",
              "      <td>13879</td>\n",
              "      <td>30.24885</td>\n",
              "      <td>-97.73587</td>\n",
              "      <td>Entire guesthouse</td>\n",
              "      <td>Entire home/apt</td>\n",
              "      <td>2</td>\n",
              "      <td>1 bath</td>\n",
              "      <td>NaN</td>\n",
              "      <td>1.0</td>\n",
              "      <td>[\"Free street parking\", \"Patio or balcony\", \"A...</td>\n",
              "      <td>$109.00</td>\n",
              "      <td>3</td>\n",
              "      <td>365</td>\n",
              "      <td>117</td>\n",
              "      <td>4.97</td>\n",
              "      <td>4.99</td>\n",
              "      <td>4.99</td>\n",
              "      <td>4.98</td>\n",
              "      <td>4.86</td>\n",
              "      <td>t</td>\n",
              "      <td>78704</td>\n",
              "    </tr>\n",
              "  </tbody>\n",
              "</table>\n",
              "</div>"
            ],
            "text/plain": [
              "     id  ... neighbourhood_cleansed\n",
              "0  2265  ...                  78702\n",
              "1  5245  ...                  78702\n",
              "2  5456  ...                  78702\n",
              "3  5769  ...                  78729\n",
              "4  6413  ...                  78704\n",
              "\n",
              "[5 rows x 27 columns]"
            ]
          },
          "metadata": {},
          "execution_count": 107
        }
      ]
    },
    {
      "cell_type": "code",
      "metadata": {
        "id": "i_fAapcUi5-f",
        "colab": {
          "base_uri": "https://localhost:8080/",
          "height": 607
        },
        "outputId": "58c39235-65aa-4007-bc37-2a82b06b4622"
      },
      "source": [
        "#rename columns 'neighbourhood_cleansed', 'neighbourhood_group_cleansed'\n",
        "airbnb = airbnb.rename(columns={'bathrooms_text': 'bathrooms_details', 'neighbourhood_cleansed': 'postal_code'})\n",
        "airbnb.head()"
      ],
      "execution_count": 108,
      "outputs": [
        {
          "output_type": "execute_result",
          "data": {
            "text/html": [
              "<div>\n",
              "<style scoped>\n",
              "    .dataframe tbody tr th:only-of-type {\n",
              "        vertical-align: middle;\n",
              "    }\n",
              "\n",
              "    .dataframe tbody tr th {\n",
              "        vertical-align: top;\n",
              "    }\n",
              "\n",
              "    .dataframe thead th {\n",
              "        text-align: right;\n",
              "    }\n",
              "</style>\n",
              "<table border=\"1\" class=\"dataframe\">\n",
              "  <thead>\n",
              "    <tr style=\"text-align: right;\">\n",
              "      <th></th>\n",
              "      <th>id</th>\n",
              "      <th>listing_url</th>\n",
              "      <th>name</th>\n",
              "      <th>description</th>\n",
              "      <th>neighborhood_overview</th>\n",
              "      <th>picture_url</th>\n",
              "      <th>host_id</th>\n",
              "      <th>latitude</th>\n",
              "      <th>longitude</th>\n",
              "      <th>property_type</th>\n",
              "      <th>room_type</th>\n",
              "      <th>accommodates</th>\n",
              "      <th>bathrooms_details</th>\n",
              "      <th>bedrooms</th>\n",
              "      <th>beds</th>\n",
              "      <th>amenities</th>\n",
              "      <th>price</th>\n",
              "      <th>minimum_nights</th>\n",
              "      <th>maximum_nights</th>\n",
              "      <th>number_of_reviews</th>\n",
              "      <th>review_scores_rating</th>\n",
              "      <th>review_scores_cleanliness</th>\n",
              "      <th>review_scores_checkin</th>\n",
              "      <th>review_scores_communication</th>\n",
              "      <th>review_scores_location</th>\n",
              "      <th>instant_bookable</th>\n",
              "      <th>postal_code</th>\n",
              "    </tr>\n",
              "  </thead>\n",
              "  <tbody>\n",
              "    <tr>\n",
              "      <th>0</th>\n",
              "      <td>2265</td>\n",
              "      <td>https://www.airbnb.com/rooms/2265</td>\n",
              "      <td>Zen-East in the Heart of Austin (monthly rental)</td>\n",
              "      <td>Zen East is situated in a vibrant &amp; diverse mu...</td>\n",
              "      <td>NaN</td>\n",
              "      <td>https://a0.muscache.com/pictures/4187/52d4f5d0...</td>\n",
              "      <td>2466</td>\n",
              "      <td>30.27752</td>\n",
              "      <td>-97.71377</td>\n",
              "      <td>Entire residential home</td>\n",
              "      <td>Entire home/apt</td>\n",
              "      <td>4</td>\n",
              "      <td>2 baths</td>\n",
              "      <td>2.0</td>\n",
              "      <td>2.0</td>\n",
              "      <td>[\"Free street parking\", \"Free dryer \\u2013 In ...</td>\n",
              "      <td>$200.00</td>\n",
              "      <td>7</td>\n",
              "      <td>180</td>\n",
              "      <td>26</td>\n",
              "      <td>4.68</td>\n",
              "      <td>4.83</td>\n",
              "      <td>4.77</td>\n",
              "      <td>4.83</td>\n",
              "      <td>4.26</td>\n",
              "      <td>f</td>\n",
              "      <td>78702</td>\n",
              "    </tr>\n",
              "    <tr>\n",
              "      <th>1</th>\n",
              "      <td>5245</td>\n",
              "      <td>https://www.airbnb.com/rooms/5245</td>\n",
              "      <td>Eco friendly, Colorful, Clean, Cozy monthly share</td>\n",
              "      <td>Situated in a vibrant &amp; diverse multicultural ...</td>\n",
              "      <td>NaN</td>\n",
              "      <td>https://a0.muscache.com/pictures/5167505/b33b5...</td>\n",
              "      <td>2466</td>\n",
              "      <td>30.27614</td>\n",
              "      <td>-97.71320</td>\n",
              "      <td>Private room in residential home</td>\n",
              "      <td>Private room</td>\n",
              "      <td>2</td>\n",
              "      <td>1 private bath</td>\n",
              "      <td>1.0</td>\n",
              "      <td>2.0</td>\n",
              "      <td>[\"Free street parking\", \"Air conditioning\", \"L...</td>\n",
              "      <td>$114.00</td>\n",
              "      <td>30</td>\n",
              "      <td>90</td>\n",
              "      <td>9</td>\n",
              "      <td>4.57</td>\n",
              "      <td>4.20</td>\n",
              "      <td>5.00</td>\n",
              "      <td>4.40</td>\n",
              "      <td>4.75</td>\n",
              "      <td>f</td>\n",
              "      <td>78702</td>\n",
              "    </tr>\n",
              "    <tr>\n",
              "      <th>2</th>\n",
              "      <td>5456</td>\n",
              "      <td>https://www.airbnb.com/rooms/5456</td>\n",
              "      <td>Walk to 6th, Rainey St and Convention Ctr</td>\n",
              "      <td>Great central  location for walking to Convent...</td>\n",
              "      <td>My neighborhood is ideally located if you want...</td>\n",
              "      <td>https://a0.muscache.com/pictures/14084884/b5a3...</td>\n",
              "      <td>8028</td>\n",
              "      <td>30.26057</td>\n",
              "      <td>-97.73441</td>\n",
              "      <td>Entire guesthouse</td>\n",
              "      <td>Entire home/apt</td>\n",
              "      <td>3</td>\n",
              "      <td>1 bath</td>\n",
              "      <td>1.0</td>\n",
              "      <td>2.0</td>\n",
              "      <td>[\"Free street parking\", \"Patio or balcony\", \"E...</td>\n",
              "      <td>$104.00</td>\n",
              "      <td>2</td>\n",
              "      <td>90</td>\n",
              "      <td>570</td>\n",
              "      <td>4.83</td>\n",
              "      <td>4.85</td>\n",
              "      <td>4.89</td>\n",
              "      <td>4.80</td>\n",
              "      <td>4.73</td>\n",
              "      <td>f</td>\n",
              "      <td>78702</td>\n",
              "    </tr>\n",
              "    <tr>\n",
              "      <th>3</th>\n",
              "      <td>5769</td>\n",
              "      <td>https://www.airbnb.com/rooms/5769</td>\n",
              "      <td>NW Austin Room</td>\n",
              "      <td>&lt;b&gt;The space&lt;/b&gt;&lt;br /&gt;Looking for a comfortabl...</td>\n",
              "      <td>Quiet neighborhood with lots of trees and good...</td>\n",
              "      <td>https://a0.muscache.com/pictures/23822033/ac94...</td>\n",
              "      <td>8186</td>\n",
              "      <td>30.45697</td>\n",
              "      <td>-97.78422</td>\n",
              "      <td>Private room in residential home</td>\n",
              "      <td>Private room</td>\n",
              "      <td>2</td>\n",
              "      <td>1 shared bath</td>\n",
              "      <td>1.0</td>\n",
              "      <td>1.0</td>\n",
              "      <td>[\"Hair dryer\", \"First aid kit\", \"Dishes and si...</td>\n",
              "      <td>$39.00</td>\n",
              "      <td>1</td>\n",
              "      <td>14</td>\n",
              "      <td>264</td>\n",
              "      <td>4.90</td>\n",
              "      <td>4.86</td>\n",
              "      <td>4.91</td>\n",
              "      <td>4.94</td>\n",
              "      <td>4.74</td>\n",
              "      <td>f</td>\n",
              "      <td>78729</td>\n",
              "    </tr>\n",
              "    <tr>\n",
              "      <th>4</th>\n",
              "      <td>6413</td>\n",
              "      <td>https://www.airbnb.com/rooms/6413</td>\n",
              "      <td>Gem of a Studio near Downtown</td>\n",
              "      <td>Great studio apartment, perfect a single perso...</td>\n",
              "      <td>Travis Heights is one of the oldest neighborho...</td>\n",
              "      <td>https://a0.muscache.com/pictures/miso/Hosting-...</td>\n",
              "      <td>13879</td>\n",
              "      <td>30.24885</td>\n",
              "      <td>-97.73587</td>\n",
              "      <td>Entire guesthouse</td>\n",
              "      <td>Entire home/apt</td>\n",
              "      <td>2</td>\n",
              "      <td>1 bath</td>\n",
              "      <td>NaN</td>\n",
              "      <td>1.0</td>\n",
              "      <td>[\"Free street parking\", \"Patio or balcony\", \"A...</td>\n",
              "      <td>$109.00</td>\n",
              "      <td>3</td>\n",
              "      <td>365</td>\n",
              "      <td>117</td>\n",
              "      <td>4.97</td>\n",
              "      <td>4.99</td>\n",
              "      <td>4.99</td>\n",
              "      <td>4.98</td>\n",
              "      <td>4.86</td>\n",
              "      <td>t</td>\n",
              "      <td>78704</td>\n",
              "    </tr>\n",
              "  </tbody>\n",
              "</table>\n",
              "</div>"
            ],
            "text/plain": [
              "     id                        listing_url  ... instant_bookable postal_code\n",
              "0  2265  https://www.airbnb.com/rooms/2265  ...                f       78702\n",
              "1  5245  https://www.airbnb.com/rooms/5245  ...                f       78702\n",
              "2  5456  https://www.airbnb.com/rooms/5456  ...                f       78702\n",
              "3  5769  https://www.airbnb.com/rooms/5769  ...                f       78729\n",
              "4  6413  https://www.airbnb.com/rooms/6413  ...                t       78704\n",
              "\n",
              "[5 rows x 27 columns]"
            ]
          },
          "metadata": {},
          "execution_count": 108
        }
      ]
    },
    {
      "cell_type": "code",
      "metadata": {
        "colab": {
          "base_uri": "https://localhost:8080/"
        },
        "id": "dTv78aFGIMQP",
        "outputId": "9c71b59d-52db-41d6-8eda-3022c57965f9"
      },
      "source": [
        "set(airbnb['postal_code'])"
      ],
      "execution_count": 109,
      "outputs": [
        {
          "output_type": "execute_result",
          "data": {
            "text/plain": [
              "{78701,\n",
              " 78702,\n",
              " 78703,\n",
              " 78704,\n",
              " 78705,\n",
              " 78712,\n",
              " 78717,\n",
              " 78719,\n",
              " 78721,\n",
              " 78722,\n",
              " 78723,\n",
              " 78724,\n",
              " 78725,\n",
              " 78726,\n",
              " 78727,\n",
              " 78728,\n",
              " 78729,\n",
              " 78730,\n",
              " 78731,\n",
              " 78732,\n",
              " 78733,\n",
              " 78734,\n",
              " 78735,\n",
              " 78736,\n",
              " 78737,\n",
              " 78738,\n",
              " 78739,\n",
              " 78741,\n",
              " 78742,\n",
              " 78744,\n",
              " 78745,\n",
              " 78746,\n",
              " 78747,\n",
              " 78748,\n",
              " 78749,\n",
              " 78750,\n",
              " 78751,\n",
              " 78752,\n",
              " 78753,\n",
              " 78754,\n",
              " 78756,\n",
              " 78757,\n",
              " 78758,\n",
              " 78759}"
            ]
          },
          "metadata": {},
          "execution_count": 109
        }
      ]
    },
    {
      "cell_type": "code",
      "metadata": {
        "id": "z_zUiGelesyv",
        "colab": {
          "base_uri": "https://localhost:8080/"
        },
        "outputId": "31c5a85b-fc45-4736-9535-81776d39ab05"
      },
      "source": [
        "list_non_null_airbnb_fields = ['id', 'listing_url', 'name', 'picture_url', 'host_id', 'latitude',\n",
        "'longitude', 'property_type', 'room_type', 'accommodates',\n",
        "'bathrooms_details', 'bedrooms', 'beds', 'amenities', 'price',\n",
        "'minimum_nights', 'maximum_nights', 'number_of_reviews', 'review_scores_rating',\n",
        "'review_scores_cleanliness', 'review_scores_checkin',\n",
        "'review_scores_communication', 'review_scores_location', 'instant_bookable', 'postal_code']\n",
        "missing_airbnb = airbnb.isnull()\n",
        "missing_airbnb = missing_airbnb[list_non_null_airbnb_fields].any(axis=1)\n",
        "airbnb.size #281034\n",
        "airbnb = airbnb.loc[(~missing_airbnb).values, :]\n",
        "airbnb.size #201069"
      ],
      "execution_count": 110,
      "outputs": [
        {
          "output_type": "execute_result",
          "data": {
            "text/plain": [
              "201069"
            ]
          },
          "metadata": {},
          "execution_count": 110
        }
      ]
    },
    {
      "cell_type": "code",
      "metadata": {
        "id": "LGM2wB7kLFuz",
        "colab": {
          "base_uri": "https://localhost:8080/"
        },
        "outputId": "9d5a87d3-5e94-45b5-f119-f93a8824c312"
      },
      "source": [
        "set(airbnb['bedrooms'])"
      ],
      "execution_count": 111,
      "outputs": [
        {
          "output_type": "execute_result",
          "data": {
            "text/plain": [
              "{1.0, 2.0, 3.0, 4.0, 5.0, 6.0, 7.0, 8.0, 9.0, 10.0, 12.0, 13.0, 15.0, 23.0}"
            ]
          },
          "metadata": {},
          "execution_count": 111
        }
      ]
    },
    {
      "cell_type": "code",
      "metadata": {
        "id": "_FuTUhi3ra_7"
      },
      "source": [
        "# making a dict to convert bathroom input to ints \n",
        "bathroom_dict = {'0 baths': 0,\n",
        " '0 shared baths': 0,\n",
        " '1 bath' : 1,\n",
        " '1 private bath': 1,\n",
        " '1 shared bath': 1,\n",
        " '1.5 baths': 1.5,\n",
        " '1.5 shared baths': 1.5,\n",
        " '10.5 baths': 10,\n",
        " '12 baths': 12,\n",
        " '17 baths': 17,\n",
        " '15.5 baths': 15.5,\n",
        " '2 baths': 2,\n",
        " '2 shared baths': 2,\n",
        " '2.5 baths': 2.5,\n",
        " '2.5 shared baths': 2.5,\n",
        " '3 baths': 3,\n",
        " '3 shared baths': 3,\n",
        " '3.5 baths': 3.5,\n",
        " '3.5 shared baths': 3.5,\n",
        " '4 baths': 4,\n",
        " '4 shared baths': 4,\n",
        " '4.5 baths': 4.5,\n",
        " '5 baths': 5,\n",
        " '5.5 baths': 5.5,\n",
        " '6 baths': 6,\n",
        " '6 shared baths': 6,\n",
        " '6.5 baths': 6.5,\n",
        " '7 baths': 7,\n",
        " '7.5 baths': 7.5,\n",
        " '8 baths': 8,\n",
        " '8.5 baths': 8.5,\n",
        " 'Half-bath': 0.5,\n",
        " '9 baths': 9,\n",
        " 'Private half-bath': 0.5,\n",
        " 'Shared half-bath': 0.5}"
      ],
      "execution_count": 112,
      "outputs": []
    },
    {
      "cell_type": "code",
      "metadata": {
        "id": "cY-mw3l8h_P4"
      },
      "source": [
        "# convert to floats\n",
        "#'id', 'host_id', 'amenities', 'price', 'instant_bookable'\n",
        "convert_to_float = ['review_scores_rating',\n",
        "'review_scores_cleanliness', 'review_scores_checkin',\n",
        "'review_scores_communication', 'latitude',\n",
        "'longitude', 'review_scores_location']\n",
        "convert_to_int = ['minimum_nights', 'maximum_nights', 'number_of_reviews', 'bedrooms', 'beds', 'accommodates', 'postal_code']\n",
        "convert_to_str = ['listing_url', 'name', 'description',\n",
        "'neighborhood_overview', 'picture_url',  'property_type', 'bathrooms_details']\n",
        "\n",
        "for col in convert_to_float:  \n",
        "  airbnb[col] = airbnb[col].apply(lambda x : float(x))\n",
        "for col in convert_to_int: \n",
        "  airbnb[col] = airbnb[col].apply(lambda x : int(x))\n",
        "for col in convert_to_str:  \n",
        "  airbnb[col] = airbnb[col].apply(lambda x : str(x))\n",
        "\n",
        "# here we are converting the prices to floats without the '$'\n",
        "airbnb['price'] = airbnb['price'].apply(lambda x : float(x[1:].replace(',','')))\n",
        "\n",
        "# here we are converting the bathrooms_text to just an int\n",
        "airbnb['bathrooms'] = airbnb['bathrooms_details'].apply(lambda x : bathroom_dict[x])\n",
        "\n",
        "# 'room_type' is already an enum :\n",
        "# {'Entire home/apt', 'Hotel room', 'Private room', 'Shared room'}\n",
        "set(airbnb['room_type'])\n",
        "\n",
        "# make 'instant_bookable' a boolean\n",
        "airbnb['instant_bookable'] = airbnb['instant_bookable'].apply(lambda x : False if x == 'f' else True)"
      ],
      "execution_count": 113,
      "outputs": []
    },
    {
      "cell_type": "code",
      "metadata": {
        "id": "U7sWDIH3iy0_",
        "colab": {
          "base_uri": "https://localhost:8080/"
        },
        "outputId": "f7cd0ab7-4f1c-4305-94e2-8b056ff6bd03"
      },
      "source": [
        "set(host['host_response_time'])"
      ],
      "execution_count": 114,
      "outputs": [
        {
          "output_type": "execute_result",
          "data": {
            "text/plain": [
              "{'a few days or more',\n",
              " nan,\n",
              " 'within a day',\n",
              " 'within a few hours',\n",
              " 'within an hour'}"
            ]
          },
          "metadata": {},
          "execution_count": 114
        }
      ]
    },
    {
      "cell_type": "code",
      "metadata": {
        "colab": {
          "base_uri": "https://localhost:8080/"
        },
        "id": "6sCTZTK9MSvP",
        "outputId": "6fd7a89a-aeda-4c2c-8da7-8347c63fa141"
      },
      "source": [
        "len(set(host['host_id'])-set(airbnb['host_id'])), len(set(airbnb['host_id'])-set(host['host_id'])), len(set(host['host_id'])), len(set(airbnb['host_id']))"
      ],
      "execution_count": 115,
      "outputs": [
        {
          "output_type": "execute_result",
          "data": {
            "text/plain": [
              "(0, 0, 5068, 5068)"
            ]
          },
          "metadata": {},
          "execution_count": 115
        }
      ]
    },
    {
      "cell_type": "code",
      "metadata": {
        "id": "fWHuKUgHqDPn",
        "colab": {
          "base_uri": "https://localhost:8080/"
        },
        "outputId": "75ea4785-45b1-4412-89b9-dab10c6e11fe"
      },
      "source": [
        "airbnb.dtypes"
      ],
      "execution_count": 116,
      "outputs": [
        {
          "output_type": "execute_result",
          "data": {
            "text/plain": [
              "id                               int64\n",
              "listing_url                     object\n",
              "name                            object\n",
              "description                     object\n",
              "neighborhood_overview           object\n",
              "picture_url                     object\n",
              "host_id                          int64\n",
              "latitude                       float64\n",
              "longitude                      float64\n",
              "property_type                   object\n",
              "room_type                       object\n",
              "accommodates                     int64\n",
              "bathrooms_details               object\n",
              "bedrooms                         int64\n",
              "beds                             int64\n",
              "amenities                       object\n",
              "price                          float64\n",
              "minimum_nights                   int64\n",
              "maximum_nights                   int64\n",
              "number_of_reviews                int64\n",
              "review_scores_rating           float64\n",
              "review_scores_cleanliness      float64\n",
              "review_scores_checkin          float64\n",
              "review_scores_communication    float64\n",
              "review_scores_location         float64\n",
              "instant_bookable                  bool\n",
              "postal_code                      int64\n",
              "bathrooms                      float64\n",
              "dtype: object"
            ]
          },
          "metadata": {},
          "execution_count": 116
        }
      ]
    },
    {
      "cell_type": "code",
      "metadata": {
        "colab": {
          "base_uri": "https://localhost:8080/"
        },
        "id": "JdPf9_CIQVzU",
        "outputId": "2f31680c-2b23-47bf-d0b9-65e34e0c3fe9"
      },
      "source": [
        "len(airbnb.index), len(set(airbnb.id))"
      ],
      "execution_count": 117,
      "outputs": [
        {
          "output_type": "execute_result",
          "data": {
            "text/plain": [
              "(7447, 7447)"
            ]
          },
          "metadata": {},
          "execution_count": 117
        }
      ]
    },
    {
      "cell_type": "markdown",
      "metadata": {
        "id": "vQkYxhBgddNu"
      },
      "source": [
        "#Cleaning Host"
      ]
    },
    {
      "cell_type": "code",
      "metadata": {
        "colab": {
          "base_uri": "https://localhost:8080/"
        },
        "id": "bB1pIxr6g4vd",
        "outputId": "9c5e9985-0fbf-4402-d63b-4aa974b65997"
      },
      "source": [
        "len(host_raw.index), len(set(host_raw.host_id))"
      ],
      "execution_count": 118,
      "outputs": [
        {
          "output_type": "execute_result",
          "data": {
            "text/plain": [
              "(10809, 7008)"
            ]
          },
          "metadata": {},
          "execution_count": 118
        }
      ]
    },
    {
      "cell_type": "code",
      "metadata": {
        "id": "L8RIuk6VP0YZ",
        "colab": {
          "base_uri": "https://localhost:8080/",
          "height": 521
        },
        "outputId": "ea9b7b02-296f-4fe5-be5d-ca99c7d5f4ca"
      },
      "source": [
        "host = pd.DataFrame(columns=[\n",
        "  'host_id', 'host_url',\n",
        "       'host_name', 'host_since', 'host_location', 'host_about',\n",
        "       'host_response_time', 'host_response_rate', 'host_acceptance_rate',\n",
        "       'host_is_superhost',\n",
        "       'host_neighbourhood', \n",
        "       'host_total_listings_count'])\n",
        "for col, row in airbnb.iterrows():\n",
        "  new_host = host_raw.loc[host_raw['host_id'] == row['host_id']]\n",
        "  #if not (host['host_id'] == row['host_id']).any():\n",
        "  if row['host_id'] not in host.values:\n",
        "    host = host.append(new_host)\n",
        "len(set(host.index)), len(set(host.host_id))\n",
        "host.head()"
      ],
      "execution_count": 119,
      "outputs": [
        {
          "output_type": "execute_result",
          "data": {
            "text/html": [
              "<div>\n",
              "<style scoped>\n",
              "    .dataframe tbody tr th:only-of-type {\n",
              "        vertical-align: middle;\n",
              "    }\n",
              "\n",
              "    .dataframe tbody tr th {\n",
              "        vertical-align: top;\n",
              "    }\n",
              "\n",
              "    .dataframe thead th {\n",
              "        text-align: right;\n",
              "    }\n",
              "</style>\n",
              "<table border=\"1\" class=\"dataframe\">\n",
              "  <thead>\n",
              "    <tr style=\"text-align: right;\">\n",
              "      <th></th>\n",
              "      <th>host_id</th>\n",
              "      <th>host_url</th>\n",
              "      <th>host_name</th>\n",
              "      <th>host_since</th>\n",
              "      <th>host_location</th>\n",
              "      <th>host_about</th>\n",
              "      <th>host_response_time</th>\n",
              "      <th>host_response_rate</th>\n",
              "      <th>host_acceptance_rate</th>\n",
              "      <th>host_is_superhost</th>\n",
              "      <th>host_neighbourhood</th>\n",
              "      <th>host_total_listings_count</th>\n",
              "    </tr>\n",
              "  </thead>\n",
              "  <tbody>\n",
              "    <tr>\n",
              "      <th>0</th>\n",
              "      <td>2466</td>\n",
              "      <td>https://www.airbnb.com/users/show/2466</td>\n",
              "      <td>Paddy</td>\n",
              "      <td>2008-08-23</td>\n",
              "      <td>Austin, Texas, United States</td>\n",
              "      <td>I am a long time resident of Austin. I earned ...</td>\n",
              "      <td>within a few hours</td>\n",
              "      <td>100%</td>\n",
              "      <td>75%</td>\n",
              "      <td>t</td>\n",
              "      <td>East Downtown</td>\n",
              "      <td>3.0</td>\n",
              "    </tr>\n",
              "    <tr>\n",
              "      <th>1</th>\n",
              "      <td>2466</td>\n",
              "      <td>https://www.airbnb.com/users/show/2466</td>\n",
              "      <td>Paddy</td>\n",
              "      <td>2008-08-23</td>\n",
              "      <td>Austin, Texas, United States</td>\n",
              "      <td>I am a long time resident of Austin. I earned ...</td>\n",
              "      <td>within a few hours</td>\n",
              "      <td>100%</td>\n",
              "      <td>75%</td>\n",
              "      <td>t</td>\n",
              "      <td>East Downtown</td>\n",
              "      <td>3.0</td>\n",
              "    </tr>\n",
              "    <tr>\n",
              "      <th>2886</th>\n",
              "      <td>2466</td>\n",
              "      <td>https://www.airbnb.com/users/show/2466</td>\n",
              "      <td>Paddy</td>\n",
              "      <td>2008-08-23</td>\n",
              "      <td>Austin, Texas, United States</td>\n",
              "      <td>I am a long time resident of Austin. I earned ...</td>\n",
              "      <td>within a few hours</td>\n",
              "      <td>100%</td>\n",
              "      <td>75%</td>\n",
              "      <td>t</td>\n",
              "      <td>East Downtown</td>\n",
              "      <td>3.0</td>\n",
              "    </tr>\n",
              "    <tr>\n",
              "      <th>2</th>\n",
              "      <td>8028</td>\n",
              "      <td>https://www.airbnb.com/users/show/8028</td>\n",
              "      <td>Sylvia</td>\n",
              "      <td>2009-02-16</td>\n",
              "      <td>Austin, Texas, United States</td>\n",
              "      <td>I am a licensed Real Estate Broker and owner o...</td>\n",
              "      <td>within an hour</td>\n",
              "      <td>100%</td>\n",
              "      <td>92%</td>\n",
              "      <td>t</td>\n",
              "      <td>East Downtown</td>\n",
              "      <td>1.0</td>\n",
              "    </tr>\n",
              "    <tr>\n",
              "      <th>3</th>\n",
              "      <td>8186</td>\n",
              "      <td>https://www.airbnb.com/users/show/8186</td>\n",
              "      <td>Elizabeth</td>\n",
              "      <td>2009-02-19</td>\n",
              "      <td>Austin, Texas, United States</td>\n",
              "      <td>We're easygoing professionals that enjoy meeti...</td>\n",
              "      <td>within a few hours</td>\n",
              "      <td>100%</td>\n",
              "      <td>100%</td>\n",
              "      <td>t</td>\n",
              "      <td>SW Williamson Co.</td>\n",
              "      <td>1.0</td>\n",
              "    </tr>\n",
              "  </tbody>\n",
              "</table>\n",
              "</div>"
            ],
            "text/plain": [
              "     host_id  ... host_total_listings_count\n",
              "0       2466  ...                       3.0\n",
              "1       2466  ...                       3.0\n",
              "2886    2466  ...                       3.0\n",
              "2       8028  ...                       1.0\n",
              "3       8186  ...                       1.0\n",
              "\n",
              "[5 rows x 12 columns]"
            ]
          },
          "metadata": {},
          "execution_count": 119
        }
      ]
    },
    {
      "cell_type": "code",
      "metadata": {
        "colab": {
          "base_uri": "https://localhost:8080/"
        },
        "id": "amF5WLv0oSdx",
        "outputId": "c1b08cf0-5bfc-4256-d44f-1f7f143ea2e3"
      },
      "source": [
        "len(set(host.index)), len(set(host.host_id))\n",
        "# w diff if : (8349, 5068)\n",
        "# w if of in (8349, 5068)\n",
        "#dupes = host[host.duplicated(subset=['host_id'])]\n",
        "host = host.drop_duplicates(subset=['host_id'])\n",
        "len(set(host.index)), len(set(host.host_id))"
      ],
      "execution_count": 120,
      "outputs": [
        {
          "output_type": "execute_result",
          "data": {
            "text/plain": [
              "(5068, 5068)"
            ]
          },
          "metadata": {},
          "execution_count": 120
        }
      ]
    },
    {
      "cell_type": "code",
      "metadata": {
        "id": "5ldXSnLfW5Il",
        "colab": {
          "base_uri": "https://localhost:8080/"
        },
        "outputId": "5db131db-e399-43f6-8219-25dbd36596f8"
      },
      "source": [
        "list_non_null_host_fields = ['host_id']\n",
        "missing_hosts = host.isnull()\n",
        "missing_hosts = missing_hosts[list_non_null_host_fields].any(axis=1)\n",
        "host_raw = host.loc[(~missing_hosts).values, :]\n",
        "len(set(host['host_id'])), len(host.index)"
      ],
      "execution_count": 121,
      "outputs": [
        {
          "output_type": "execute_result",
          "data": {
            "text/plain": [
              "(5068, 5068)"
            ]
          },
          "metadata": {},
          "execution_count": 121
        }
      ]
    },
    {
      "cell_type": "code",
      "metadata": {
        "id": "4-Xivw-ZYYNh",
        "colab": {
          "base_uri": "https://localhost:8080/"
        },
        "outputId": "b4f69ae5-66db-4d78-8cc1-d1569fbd8dc6"
      },
      "source": [
        "host['host_id'].isnull().any().any()"
      ],
      "execution_count": 122,
      "outputs": [
        {
          "output_type": "execute_result",
          "data": {
            "text/plain": [
              "False"
            ]
          },
          "metadata": {},
          "execution_count": 122
        }
      ]
    },
    {
      "cell_type": "code",
      "metadata": {
        "colab": {
          "base_uri": "https://localhost:8080/"
        },
        "id": "J-t8Qqon955F",
        "outputId": "e108a5ba-6622-4d4f-833b-727d9f641bb5"
      },
      "source": [
        "host['host_response_rate']"
      ],
      "execution_count": 128,
      "outputs": [
        {
          "output_type": "execute_result",
          "data": {
            "text/plain": [
              "0        100%\n",
              "2        100%\n",
              "3        100%\n",
              "5        100%\n",
              "6        100%\n",
              "         ... \n",
              "10622    100%\n",
              "10661    100%\n",
              "10664    100%\n",
              "10700    100%\n",
              "10706     NaN\n",
              "Name: host_response_rate, Length: 5068, dtype: object"
            ]
          },
          "metadata": {},
          "execution_count": 128
        }
      ]
    },
    {
      "cell_type": "markdown",
      "metadata": {
        "id": "PeTrmBMncDPx"
      },
      "source": [
        "We now want to determine what types we want for each column. Below we convert to ints and strings. We also convert the percent entries into ints. We also convert 'host_is_superhost' into a boolean. Additionally we verify that 'host_response_time' is prepped to become an enum of type {'a few days or more', 'within a day', 'within a few hours', 'within an hour'}\n"
      ]
    },
    {
      "cell_type": "code",
      "metadata": {
        "id": "dZJElb-dRZuK",
        "colab": {
          "base_uri": "https://localhost:8080/"
        },
        "outputId": "8f1bb688-e84c-4265-9c15-7f38550ffb9f"
      },
      "source": [
        "def perc_to_int(x): \n",
        "  return int(x[:-1])\n",
        "#int(host.loc[500]['host_response_rate'][:-1])\n",
        "\n",
        "# here we are converting the percentages to ints without the '%'\n",
        "#host['host_response_rate'] = host['host_response_rate'].apply(lambda x : int(x[:-1]))\n",
        "#host['host_response_rate'] = host['host_response_rate'].apply(lambda x: x)\n",
        "#host['host_acceptance_rate'] = host['host_acceptance_rate'].apply(lambda x : int(x[:-1]))\n",
        "\n",
        "# here we are converting the number of listings to ints\n",
        "#host['host_total_listings_count'] = host['host_total_listings_count'].apply(lambda x : int(x))\n",
        "\n",
        "# here we will convert to strings \n",
        "convert_to_str = ['host_url','host_name','host_location','host_about','host_neighbourhood']\n",
        "for col in convert_to_str:  \n",
        "  host[col] = host[col].apply(lambda x : str(x))\n",
        "\n",
        "#host['host_url'] = host['host_url'].apply(lambda x : str(x))\n",
        "#host['host_name'] = host['host_name'].apply(lambda x : str(x))\n",
        "#host['host_location'] = host['host_location'].apply(lambda x : str(x))\n",
        "#host['host_about'] = host['host_about'].apply(lambda x : str(x))\n",
        "#host['host_neighbourhood'] = host['host_neighbourhood'].apply(lambda x : str(x))\n",
        "\n",
        "# 'Host_response_time' is already an enum :\n",
        "# host['host_response_time'] = host['host_response_time'].apply(lambda x : 'unknown' if x.isnull() else x)\n",
        "set(host['host_response_time'])\n"
      ],
      "execution_count": 130,
      "outputs": [
        {
          "output_type": "execute_result",
          "data": {
            "text/plain": [
              "{'a few days or more',\n",
              " nan,\n",
              " 'within a day',\n",
              " 'within a few hours',\n",
              " 'within an hour'}"
            ]
          },
          "metadata": {},
          "execution_count": 130
        }
      ]
    },
    {
      "cell_type": "code",
      "metadata": {
        "id": "pni42NvgakH7"
      },
      "source": [
        "# make 'host_is_superhost' a boolean\n",
        "host['host_is_superhost'] = host['host_is_superhost'].apply(lambda x : False if x == 'f' else True)"
      ],
      "execution_count": 131,
      "outputs": []
    },
    {
      "cell_type": "code",
      "metadata": {
        "id": "GlV-fmT5bXyx",
        "colab": {
          "base_uri": "https://localhost:8080/",
          "height": 537
        },
        "outputId": "006341e8-2943-438e-f488-3792efa7b6f1"
      },
      "source": [
        "host.head()"
      ],
      "execution_count": 132,
      "outputs": [
        {
          "output_type": "execute_result",
          "data": {
            "text/html": [
              "<div>\n",
              "<style scoped>\n",
              "    .dataframe tbody tr th:only-of-type {\n",
              "        vertical-align: middle;\n",
              "    }\n",
              "\n",
              "    .dataframe tbody tr th {\n",
              "        vertical-align: top;\n",
              "    }\n",
              "\n",
              "    .dataframe thead th {\n",
              "        text-align: right;\n",
              "    }\n",
              "</style>\n",
              "<table border=\"1\" class=\"dataframe\">\n",
              "  <thead>\n",
              "    <tr style=\"text-align: right;\">\n",
              "      <th></th>\n",
              "      <th>host_id</th>\n",
              "      <th>host_url</th>\n",
              "      <th>host_name</th>\n",
              "      <th>host_since</th>\n",
              "      <th>host_location</th>\n",
              "      <th>host_about</th>\n",
              "      <th>host_response_time</th>\n",
              "      <th>host_response_rate</th>\n",
              "      <th>host_acceptance_rate</th>\n",
              "      <th>host_is_superhost</th>\n",
              "      <th>host_neighbourhood</th>\n",
              "      <th>host_total_listings_count</th>\n",
              "    </tr>\n",
              "  </thead>\n",
              "  <tbody>\n",
              "    <tr>\n",
              "      <th>0</th>\n",
              "      <td>2466</td>\n",
              "      <td>https://www.airbnb.com/users/show/2466</td>\n",
              "      <td>Paddy</td>\n",
              "      <td>2008-08-23</td>\n",
              "      <td>Austin, Texas, United States</td>\n",
              "      <td>I am a long time resident of Austin. I earned ...</td>\n",
              "      <td>within a few hours</td>\n",
              "      <td>100%</td>\n",
              "      <td>75%</td>\n",
              "      <td>True</td>\n",
              "      <td>East Downtown</td>\n",
              "      <td>3.0</td>\n",
              "    </tr>\n",
              "    <tr>\n",
              "      <th>2</th>\n",
              "      <td>8028</td>\n",
              "      <td>https://www.airbnb.com/users/show/8028</td>\n",
              "      <td>Sylvia</td>\n",
              "      <td>2009-02-16</td>\n",
              "      <td>Austin, Texas, United States</td>\n",
              "      <td>I am a licensed Real Estate Broker and owner o...</td>\n",
              "      <td>within an hour</td>\n",
              "      <td>100%</td>\n",
              "      <td>92%</td>\n",
              "      <td>True</td>\n",
              "      <td>East Downtown</td>\n",
              "      <td>1.0</td>\n",
              "    </tr>\n",
              "    <tr>\n",
              "      <th>3</th>\n",
              "      <td>8186</td>\n",
              "      <td>https://www.airbnb.com/users/show/8186</td>\n",
              "      <td>Elizabeth</td>\n",
              "      <td>2009-02-19</td>\n",
              "      <td>Austin, Texas, United States</td>\n",
              "      <td>We're easygoing professionals that enjoy meeti...</td>\n",
              "      <td>within a few hours</td>\n",
              "      <td>100%</td>\n",
              "      <td>100%</td>\n",
              "      <td>True</td>\n",
              "      <td>SW Williamson Co.</td>\n",
              "      <td>1.0</td>\n",
              "    </tr>\n",
              "    <tr>\n",
              "      <th>5</th>\n",
              "      <td>14156</td>\n",
              "      <td>https://www.airbnb.com/users/show/14156</td>\n",
              "      <td>Amy</td>\n",
              "      <td>2009-04-20</td>\n",
              "      <td>Austin, Texas, United States</td>\n",
              "      <td>We are a family of four (with teenagers, all o...</td>\n",
              "      <td>within an hour</td>\n",
              "      <td>100%</td>\n",
              "      <td>97%</td>\n",
              "      <td>True</td>\n",
              "      <td>Zilker</td>\n",
              "      <td>2.0</td>\n",
              "    </tr>\n",
              "    <tr>\n",
              "      <th>6</th>\n",
              "      <td>25298</td>\n",
              "      <td>https://www.airbnb.com/users/show/25298</td>\n",
              "      <td>Karen</td>\n",
              "      <td>2009-07-11</td>\n",
              "      <td>Austin, Texas, United States</td>\n",
              "      <td>I handle the reservations at the studio on the...</td>\n",
              "      <td>within an hour</td>\n",
              "      <td>100%</td>\n",
              "      <td>67%</td>\n",
              "      <td>False</td>\n",
              "      <td>East Riverside</td>\n",
              "      <td>1.0</td>\n",
              "    </tr>\n",
              "  </tbody>\n",
              "</table>\n",
              "</div>"
            ],
            "text/plain": [
              "  host_id  ... host_total_listings_count\n",
              "0    2466  ...                       3.0\n",
              "2    8028  ...                       1.0\n",
              "3    8186  ...                       1.0\n",
              "5   14156  ...                       2.0\n",
              "6   25298  ...                       1.0\n",
              "\n",
              "[5 rows x 12 columns]"
            ]
          },
          "metadata": {},
          "execution_count": 132
        }
      ]
    },
    {
      "cell_type": "markdown",
      "metadata": {
        "id": "VgszVVaKt7CE"
      },
      "source": [
        "We finish with the following for **airbnb**\n",
        "```\n",
        "id                               int64\n",
        "listing_url                     object\n",
        "name                            object\n",
        "description                     object\n",
        "neighborhood_overview           object\n",
        "picture_url                     object\n",
        "host_id                          int64\n",
        "latitude                       float64\n",
        "longitude                      float64\n",
        "property_type                   object\n",
        "room_type                       object\n",
        "accommodates                     int64\n",
        "bathrooms_details               object\n",
        "bedrooms                         int64\n",
        "beds                             int64\n",
        "amenities                       object\n",
        "price                          float64\n",
        "minimum_nights                   int64\n",
        "maximum_nights                   int64\n",
        "number_of_reviews                int64\n",
        "review_scores_rating           float64\n",
        "review_scores_cleanliness      float64\n",
        "review_scores_checkin          float64\n",
        "review_scores_communication    float64\n",
        "review_scores_location         float64\n",
        "instant_bookable                  bool\n",
        "postal_code                      int64\n",
        "bathrooms                      float64\n",
        "```\n",
        "We finish with the following for **host**\n",
        "\n",
        "\n",
        "```\n",
        "host_id                       int64 PRIMARY KEY\n",
        "host_url                     object\n",
        "host_name                    object\n",
        "host_since                   object\n",
        "host_location                object\n",
        "host_about                   object CAN BE NULL\n",
        "host_response_time           object ENUM\n",
        "host_response_rate            int64\n",
        "host_acceptance_rate          int64\n",
        "host_is_superhost              bool\n",
        "host_neighbourhood           object\n",
        "host_total_listings_count     int64\n",
        "\n",
        "```\n",
        "\n",
        "\n"
      ]
    },
    {
      "cell_type": "code",
      "metadata": {
        "colab": {
          "base_uri": "https://localhost:8080/"
        },
        "id": "DyhJTarIS9F0",
        "outputId": "4fe8cf20-841e-4689-91a4-7aae45ecad1a"
      },
      "source": [
        "print(len(airbnb['id']))"
      ],
      "execution_count": 133,
      "outputs": [
        {
          "output_type": "stream",
          "name": "stdout",
          "text": [
            "7447\n"
          ]
        }
      ]
    },
    {
      "cell_type": "markdown",
      "metadata": {
        "id": "MpNzpcioVZVW"
      },
      "source": [
        "## Export Data\n"
      ]
    },
    {
      "cell_type": "code",
      "metadata": {
        "id": "-IxY6b2bgNU9"
      },
      "source": [
        "host.to_csv(\"host_table.csv\", index=False)\n",
        "airbnb.to_csv(\"airbnb_table.csv\", index=True)"
      ],
      "execution_count": 134,
      "outputs": []
    },
    {
      "cell_type": "markdown",
      "metadata": {
        "id": "Ze_Ryi19ga7m"
      },
      "source": [
        "Finally, we download these files to our local machine, so we can put them into MySQL Workbench later. "
      ]
    },
    {
      "cell_type": "code",
      "metadata": {
        "id": "jyC1g_Xsgfmm",
        "colab": {
          "base_uri": "https://localhost:8080/",
          "height": 16
        },
        "outputId": "8dc2a9b0-cc91-4099-a046-94321a9261b8"
      },
      "source": [
        "from google.colab import files\n",
        "files.download('host_table.csv') \n",
        "files.download(\"airbnb_table.csv\")"
      ],
      "execution_count": 135,
      "outputs": [
        {
          "output_type": "display_data",
          "data": {
            "application/javascript": [
              "\n",
              "    async function download(id, filename, size) {\n",
              "      if (!google.colab.kernel.accessAllowed) {\n",
              "        return;\n",
              "      }\n",
              "      const div = document.createElement('div');\n",
              "      const label = document.createElement('label');\n",
              "      label.textContent = `Downloading \"${filename}\": `;\n",
              "      div.appendChild(label);\n",
              "      const progress = document.createElement('progress');\n",
              "      progress.max = size;\n",
              "      div.appendChild(progress);\n",
              "      document.body.appendChild(div);\n",
              "\n",
              "      const buffers = [];\n",
              "      let downloaded = 0;\n",
              "\n",
              "      const channel = await google.colab.kernel.comms.open(id);\n",
              "      // Send a message to notify the kernel that we're ready.\n",
              "      channel.send({})\n",
              "\n",
              "      for await (const message of channel.messages) {\n",
              "        // Send a message to notify the kernel that we're ready.\n",
              "        channel.send({})\n",
              "        if (message.buffers) {\n",
              "          for (const buffer of message.buffers) {\n",
              "            buffers.push(buffer);\n",
              "            downloaded += buffer.byteLength;\n",
              "            progress.value = downloaded;\n",
              "          }\n",
              "        }\n",
              "      }\n",
              "      const blob = new Blob(buffers, {type: 'application/binary'});\n",
              "      const a = document.createElement('a');\n",
              "      a.href = window.URL.createObjectURL(blob);\n",
              "      a.download = filename;\n",
              "      div.appendChild(a);\n",
              "      a.click();\n",
              "      div.remove();\n",
              "    }\n",
              "  "
            ],
            "text/plain": [
              "<IPython.core.display.Javascript object>"
            ]
          },
          "metadata": {}
        },
        {
          "output_type": "display_data",
          "data": {
            "application/javascript": [
              "download(\"download_27da1820-1af5-4443-a855-2352758722ea\", \"host_table.csv\", 1706568)"
            ],
            "text/plain": [
              "<IPython.core.display.Javascript object>"
            ]
          },
          "metadata": {}
        },
        {
          "output_type": "display_data",
          "data": {
            "application/javascript": [
              "\n",
              "    async function download(id, filename, size) {\n",
              "      if (!google.colab.kernel.accessAllowed) {\n",
              "        return;\n",
              "      }\n",
              "      const div = document.createElement('div');\n",
              "      const label = document.createElement('label');\n",
              "      label.textContent = `Downloading \"${filename}\": `;\n",
              "      div.appendChild(label);\n",
              "      const progress = document.createElement('progress');\n",
              "      progress.max = size;\n",
              "      div.appendChild(progress);\n",
              "      document.body.appendChild(div);\n",
              "\n",
              "      const buffers = [];\n",
              "      let downloaded = 0;\n",
              "\n",
              "      const channel = await google.colab.kernel.comms.open(id);\n",
              "      // Send a message to notify the kernel that we're ready.\n",
              "      channel.send({})\n",
              "\n",
              "      for await (const message of channel.messages) {\n",
              "        // Send a message to notify the kernel that we're ready.\n",
              "        channel.send({})\n",
              "        if (message.buffers) {\n",
              "          for (const buffer of message.buffers) {\n",
              "            buffers.push(buffer);\n",
              "            downloaded += buffer.byteLength;\n",
              "            progress.value = downloaded;\n",
              "          }\n",
              "        }\n",
              "      }\n",
              "      const blob = new Blob(buffers, {type: 'application/binary'});\n",
              "      const a = document.createElement('a');\n",
              "      a.href = window.URL.createObjectURL(blob);\n",
              "      a.download = filename;\n",
              "      div.appendChild(a);\n",
              "      a.click();\n",
              "      div.remove();\n",
              "    }\n",
              "  "
            ],
            "text/plain": [
              "<IPython.core.display.Javascript object>"
            ]
          },
          "metadata": {}
        },
        {
          "output_type": "display_data",
          "data": {
            "application/javascript": [
              "download(\"download_58e0b259-dbcd-4159-88f4-662c8a0ff98b\", \"airbnb_table.csv\", 14282505)"
            ],
            "text/plain": [
              "<IPython.core.display.Javascript object>"
            ]
          },
          "metadata": {}
        }
      ]
    },
    {
      "cell_type": "markdown",
      "metadata": {
        "id": "GSZoJnysBila"
      },
      "source": [
        "# Yelp Data Cleanup\n",
        "We want to keep all of the columns so we will just look for missing or misentered values, create categorical values, and check for entity resolution. We also only want New York Data."
      ]
    },
    {
      "cell_type": "code",
      "metadata": {
        "id": "JLuILSc25bLZ"
      },
      "source": [
        "yelp_raw.head()"
      ],
      "execution_count": null,
      "outputs": []
    },
    {
      "cell_type": "code",
      "metadata": {
        "id": "-JFyD6aOCMpN"
      },
      "source": [
        "yelp = yelp_raw[yelp_raw['state']=='NY']\n",
        "set(yelp_raw['state'])"
      ],
      "execution_count": null,
      "outputs": []
    },
    {
      "cell_type": "code",
      "metadata": {
        "id": "tAE6QNs_aAoN"
      },
      "source": [
        "yelp.columns"
      ],
      "execution_count": null,
      "outputs": []
    },
    {
      "cell_type": "markdown",
      "metadata": {
        "id": "BVSmHu9rVR4e"
      },
      "source": [
        "## Important\n",
        "you can see there is unfortunately no NYC info in the yelp dataset. The following is thus my attempt to grab it directly from the yelp API. It is inspired slightly by the code at the [following link](https://rspiro9.github.io/nyc_restaurant_yelp_and_inspection_analysis)"
      ]
    },
    {
      "cell_type": "code",
      "metadata": {
        "colab": {
          "base_uri": "https://localhost:8080/"
        },
        "id": "f1D7W5munGgF",
        "outputId": "78f9d5cc-1fc0-4b37-c6ef-6b51cbe21a59"
      },
      "source": [
        "pip install requests"
      ],
      "execution_count": null,
      "outputs": [
        {
          "output_type": "stream",
          "name": "stdout",
          "text": [
            "Requirement already satisfied: requests in /usr/local/lib/python3.7/dist-packages (2.23.0)\n",
            "Requirement already satisfied: chardet<4,>=3.0.2 in /usr/local/lib/python3.7/dist-packages (from requests) (3.0.4)\n",
            "Requirement already satisfied: certifi>=2017.4.17 in /usr/local/lib/python3.7/dist-packages (from requests) (2021.10.8)\n",
            "Requirement already satisfied: urllib3!=1.25.0,!=1.25.1,<1.26,>=1.21.1 in /usr/local/lib/python3.7/dist-packages (from requests) (1.24.3)\n",
            "Requirement already satisfied: idna<3,>=2.5 in /usr/local/lib/python3.7/dist-packages (from requests) (2.10)\n"
          ]
        }
      ]
    },
    {
      "cell_type": "code",
      "metadata": {
        "id": "jpHmhc_5dZtj"
      },
      "source": [
        "#set(yelp_raw['categories'])"
      ],
      "execution_count": null,
      "outputs": []
    },
    {
      "cell_type": "markdown",
      "metadata": {
        "id": "9k47bprpVv1f"
      },
      "source": [
        "connect to my API key:"
      ]
    },
    {
      "cell_type": "code",
      "metadata": {
        "id": "3Cdjn2A4kC8W"
      },
      "source": [
        "def get_keys(path):\n",
        "    with open(path) as f:\n",
        "        return json.load(f)\n",
        "\t\t\t\t\n",
        "# Pull in keys and specifically draw out the api key. I have removed the specific path to the keys \n",
        "# for security purposes:\n",
        "#keys = get_keys(\"/Users/3a0K2dom2OuZm69n7rZMR78to5RL7OQgJWqgqIVnKXbFFcPQ4KgMoNWNPrDZ-DVlVUnGB4YuYOob8xU-Fm1WPaK4vLmbaLQ_ljszj7qUPyXNavWHRp-5OgfnPb6OYXYx/yelp_api.json\")\n",
        "api_key = '3a0K2dom2OuZm69n7rZMR78to5RL7OQgJWqgqIVnKXbFFcPQ4KgMoNWNPrDZ-DVlVUnGB4YuYOob8xU-Fm1WPaK4vLmbaLQ_ljszj7qUPyXNavWHRp-5OgfnPb6OYXYx'\n",
        "\n",
        "# URL to pull data from:\n",
        "url = 'https://api.yelp.com/v3/businesses/search'\n",
        "\n",
        "# Identify headers:\n",
        "headers = {'Authorization': 'Bearer {}'.format(api_key)}"
      ],
      "execution_count": null,
      "outputs": []
    },
    {
      "cell_type": "code",
      "metadata": {
        "id": "AGDdq-Ro0_27"
      },
      "source": [
        "url = 'https://api.yelp.com/v3/businesses/search'\n",
        "term = \"Restaurants\"\n",
        "location =  'Manhattan, NY'\n",
        "categories = \"(restaurants, All)\"\n",
        "url_params = {\n",
        "                        'location': location,\n",
        "                        'term' : term,\n",
        "                        'categories': categories,\n",
        "                        'limit': 50,\n",
        "                    }\n",
        "response = requests.get(url, headers=headers, params=url_params)\n",
        "response_json = response.json()"
      ],
      "execution_count": null,
      "outputs": []
    },
    {
      "cell_type": "code",
      "metadata": {
        "colab": {
          "base_uri": "https://localhost:8080/"
        },
        "id": "X2Tkj05fHeYx",
        "outputId": "9d6cf2fb-4be0-4ec1-e57b-17d0a5edcb09"
      },
      "source": [
        "#create empty dataframe for dataset\n",
        "column_names = ['business_id', 'categories', 'name',\n",
        "'postal_code', 'latitude', 'longitude', 'stars',\n",
        "'review_count', 'price_range', 'hours', 'address', 'neighborhood', 'url']\n",
        "restaurant =  pd.DataFrame(columns = column_names)\n",
        "\n",
        "location =  'Manhattan, NY'\n",
        "categories = \"(restaurants, All)\"\n",
        "\n",
        "#looping through different offsets to get restaurants, then I will add to the dataframe\n",
        "for offset in range(0, 1000, 50):\n",
        "  search_limit = 50\n",
        "  term = \"Restaurants\"\n",
        "  url_params = {\n",
        "                  'location': location,\n",
        "                  'term' : term,\n",
        "                  'limit': search_limit,\n",
        "                  'categories': categories,\n",
        "                  'offset': offset,\n",
        "              }\n",
        "  response = requests.get(url, headers=headers, params=url_params)\n",
        "  if response.status_code == 400:\n",
        "            print(f'400 Bad Request on offset {offset}')\n",
        "            break\n",
        "  if response.status_code == 500:\n",
        "            print(f'500 Bad Request on offset {offset}')\n",
        "            break\n",
        "  response_json = response.json()\n",
        "  print(response.status_code)\n",
        "  for i in range(50):\n",
        "    this_business = response_json['businesses'][i]\n",
        "    try:\n",
        "      price = this_business['price'] \n",
        "    except:\n",
        "      price = 'UNKNOWN'\n",
        "    #price = this_business['price'] if this_business['price'] else 'UNKNOWN'\n",
        "    new_row = {'business_id': this_business['id'], \n",
        "               'categories':this_business['categories'][0]['alias'],\n",
        "               'name':this_business['name'],\n",
        "               'postal_code':this_business['location']['zip_code'],\n",
        "               'latitude': this_business['coordinates']['latitude'],\n",
        "               'longitude':this_business['coordinates']['longitude'],\n",
        "               'stars':this_business['rating'],\n",
        "               'review_count': this_business['review_count'],\n",
        "               'price_range': price, #'hours': ,\n",
        "               'address': this_business['location']['address1'], #'neighborhood': , \n",
        "               'url': this_business['url']}\n",
        "    restaurant = restaurant.append(new_row, ignore_index=True)\n",
        "  #print(response_json['businesses'][0]['name'], response_json, response)\n",
        "  #print(response)"
      ],
      "execution_count": null,
      "outputs": [
        {
          "output_type": "stream",
          "name": "stdout",
          "text": [
            "200\n",
            "200\n",
            "200\n",
            "200\n",
            "500 Bad Request on offset 200\n"
          ]
        }
      ]
    },
    {
      "cell_type": "code",
      "metadata": {
        "id": "lI-bVSUCYNIs"
      },
      "source": [
        "restaurant.head()"
      ],
      "execution_count": null,
      "outputs": []
    },
    {
      "cell_type": "code",
      "metadata": {
        "id": "ZpZzH50ldj2r",
        "colab": {
          "base_uri": "https://localhost:8080/",
          "height": 133
        },
        "outputId": "c63dc4f4-8a44-4fe5-85bd-db08ce366eb4"
      },
      "source": [
        "#create empty dataframe for dataset\n",
        "column_names = ['review_id',\n",
        "'stars',\n",
        "'date',\n",
        "'useful',\n",
        "'funny',\n",
        "'cool',\n",
        "'review_of']\n",
        "review =  pd.DataFrame(columns = column_names)\n",
        "\n",
        "url = 'https://api.yelp.com/v3/businesses/{id}/reviews'\n",
        "#loop through restaurants in df\n",
        "for restaurant_id in restaurant['business_id']: \n",
        "  search_limit = 50\n",
        "  url = 'https://api.yelp.com/v3/businesses/' + restaurant_id + '/reviews'\n",
        "  url_params = {\n",
        "                'limit': search_limit,\n",
        "              }\n",
        "  response = requests.get(url, headers=headers, params=url_params)\n",
        "  if response.status_code == 400:\n",
        "            print(f'400 Bad Request')\n",
        "            break\n",
        "  if response.status_code == 500:\n",
        "            print(f'500 Bad Request ')\n",
        "            break\n",
        "  response_json = response.json()\n",
        "  for i in range(len(response_json['reviews'])):\n",
        "    this_review = response_json['reviews'][i]\n",
        "    #price = this_business['price'] if this_business['price'] else 'UNKNOWN'\n",
        "    new_row = { ADD HERE}\n",
        "    review = review.append(new_row, ignore_index=True)\n",
        "  #print(response_json['businesses'][0]['name'], response_json, response)\n",
        "  #print(response)"
      ],
      "execution_count": null,
      "outputs": [
        {
          "output_type": "error",
          "ename": "SyntaxError",
          "evalue": "ignored",
          "traceback": [
            "\u001b[0;36m  File \u001b[0;32m\"<ipython-input-144-886bf90ccdd2>\"\u001b[0;36m, line \u001b[0;32m30\u001b[0m\n\u001b[0;31m    new_row = { ADD HERE}\u001b[0m\n\u001b[0m                       ^\u001b[0m\n\u001b[0;31mSyntaxError\u001b[0m\u001b[0;31m:\u001b[0m invalid syntax\n"
          ]
        }
      ]
    },
    {
      "cell_type": "code",
      "metadata": {
        "id": "hl-eW3T_eAWl"
      },
      "source": [
        "url = 'https://api.yelp.com/v3/businesses/' + 'DGhWO1sUWydVeR5j5ZZaMw' + '/reviews'\n",
        "\n",
        "search_limit = 50\n",
        "url_params = {\n",
        "                'limit': search_limit,\n",
        "}\n",
        "response = requests.get(url, headers=headers, params=url_params)\n",
        "response_json = response.json()\n",
        "response_json"
      ],
      "execution_count": null,
      "outputs": []
    },
    {
      "cell_type": "markdown",
      "metadata": {
        "id": "qjX17CWRYU5T"
      },
      "source": [
        "## What we need now:\n",
        "1. decide if we want reviews table and import that\n",
        "2. figure out hours and neighborhood"
      ]
    }
  ]
}